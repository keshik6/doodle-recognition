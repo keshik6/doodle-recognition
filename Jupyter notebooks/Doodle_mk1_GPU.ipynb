{
  "nbformat": 4,
  "nbformat_minor": 0,
  "metadata": {
    "colab": {
      "name": "Doodle_mk1-GPU.ipynb",
      "version": "0.3.2",
      "provenance": [],
      "collapsed_sections": []
    },
    "kernelspec": {
      "name": "python3",
      "display_name": "Python 3"
    }
  },
  "cells": [
    {
      "metadata": {
        "id": "uIGTfSf9d_CA",
        "colab_type": "text"
      },
      "cell_type": "markdown",
      "source": [
        "# Doodle Detection \n",
        "This notebook will help you recreate our entire training process and setup your data for you. No additional files or data required. These are the things the note book will help you execute.\n",
        "\n",
        "1. Attach your Google Drive to the Colab instance to use as persistence storage\n",
        "2. Test your Google Drive link\n",
        "3. Download the data from kaggle CLI\n",
        "4. Unzip the data\n",
        "5. Calculate Image entropy per class and append it to the dataset \n",
        "6. Create compressed and shuffled gz files to be used with the Image generator \n",
        "7. Imports relevant libraries\n",
        "8. Create image Generator\n",
        "9. Create Model and specify hyperparameters \n",
        "10. Train your model with learning rate scheduling and model checkpoints \n",
        "11. Run the model through the kaggle test set\n",
        "12. Create the submission file for kaggle and save it to your Google Drive \n",
        "\n"
      ]
    },
    {
      "metadata": {
        "id": "tDarm1mmNoVY",
        "colab_type": "text"
      },
      "cell_type": "markdown",
      "source": [
        "## Attach Google Drive\n",
        "After executing the cell below, click on the link below to authorize and get your code."
      ]
    },
    {
      "metadata": {
        "id": "OzFYd9Y2Nngf",
        "colab_type": "code",
        "outputId": "2a9f3812-3498-4e52-b8e4-72e854da10ae",
        "colab": {
          "base_uri": "https://localhost:8080/",
          "height": 122
        }
      },
      "cell_type": "code",
      "source": [
        "# Authorise your google account \n",
        "from google.colab import drive\n",
        "drive.mount('/content/gdrive')"
      ],
      "execution_count": 0,
      "outputs": [
        {
          "output_type": "stream",
          "text": [
            "Go to this URL in a browser: https://accounts.google.com/o/oauth2/auth?client_id=947318989803-6bn6qk8qdgf4n4g3pfee6491hc0brc4i.apps.googleusercontent.com&redirect_uri=urn%3Aietf%3Awg%3Aoauth%3A2.0%3Aoob&scope=email%20https%3A%2F%2Fwww.googleapis.com%2Fauth%2Fdocs.test%20https%3A%2F%2Fwww.googleapis.com%2Fauth%2Fdrive%20https%3A%2F%2Fwww.googleapis.com%2Fauth%2Fdrive.photos.readonly%20https%3A%2F%2Fwww.googleapis.com%2Fauth%2Fpeopleapi.readonly&response_type=code\n",
            "\n",
            "Enter your authorization code:\n",
            "··········\n",
            "Mounted at /content/gdrive\n"
          ],
          "name": "stdout"
        }
      ]
    },
    {
      "metadata": {
        "id": "8Az1O42PIdET",
        "colab_type": "text"
      },
      "cell_type": "markdown",
      "source": [
        "### Testing Google Drive Mount"
      ]
    },
    {
      "metadata": {
        "id": "_9knv-O1NqxQ",
        "colab_type": "code",
        "outputId": "a4a8a717-ced9-4aa2-c0c5-e73ccb96dfe2",
        "colab": {
          "base_uri": "https://localhost:8080/",
          "height": 34
        }
      },
      "cell_type": "code",
      "source": [
        "# File should be saved on your google drive under the folder colab_output\n",
        "with open('/content/gdrive/My Drive/colab_output/foo.txt', 'w') as f:\n",
        "  f.write('Hello Google Drive!')\n",
        "!cat /content/gdrive/My\\ Drive/colab_output/foo.txt"
      ],
      "execution_count": 0,
      "outputs": [
        {
          "output_type": "stream",
          "text": [
            "Hello Google Drive!"
          ],
          "name": "stdout"
        }
      ]
    },
    {
      "metadata": {
        "id": "eU4VVaXzM6G5",
        "colab_type": "text"
      },
      "cell_type": "markdown",
      "source": [
        "## Setting up Kaggle Auth & Downloading Data\n",
        "\n",
        "### You need to place your own username and your API token for kaggle in the cell below"
      ]
    },
    {
      "metadata": {
        "id": "5H7soY3Sd_2E",
        "colab_type": "code",
        "colab": {}
      },
      "cell_type": "code",
      "source": [
        "!pip install -U -q kaggle\n",
        "!mkdir -p ~/.kaggle\n",
        "# Change to your own key, go to account page, create API token and look inside JSON for key\n",
        "!echo '{\"username\":\"<YOUR USERNAME HERE>\",\"key\":\"<YOUR TOKEN HERE>\"}' > ~/.kaggle/kaggle.json\n",
        "!chmod 600 ~/.kaggle/kaggle.json"
      ],
      "execution_count": 0,
      "outputs": []
    },
    {
      "metadata": {
        "id": "S29fDfdUW9Dg",
        "colab_type": "code",
        "outputId": "ae371496-c03b-4f20-fa1f-5dfe581e408e",
        "colab": {
          "base_uri": "https://localhost:8080/",
          "height": 68
        }
      },
      "cell_type": "code",
      "source": [
        "# Only Download train_simplified\n",
        "!mkdir -p data\n",
        "!kaggle competitions download -c quickdraw-doodle-recognition -f train_simplified.zip -p data\n",
        "!mkdir data/train_simplified"
      ],
      "execution_count": 0,
      "outputs": [
        {
          "output_type": "stream",
          "text": [
            "Downloading train_simplified.zip to data\n",
            "100% 7.36G/7.37G [02:32<00:00, 53.5MB/s]\n",
            "100% 7.37G/7.37G [02:32<00:00, 51.9MB/s]\n"
          ],
          "name": "stdout"
        }
      ]
    },
    {
      "metadata": {
        "id": "kwvd5Tr8foQJ",
        "colab_type": "code",
        "outputId": "b771ef66-cbeb-4e71-ab46-44ff1c2335de",
        "colab": {
          "base_uri": "https://localhost:8080/",
          "height": 5814
        }
      },
      "cell_type": "code",
      "source": [
        "# Unzipping takes awhile\n",
        "!unzip data/train_simplified.zip -d data/train_simplified"
      ],
      "execution_count": 0,
      "outputs": [
        {
          "output_type": "stream",
          "text": [
            "Archive:  data/train_simplified.zip\n",
            "  inflating: data/train_simplified/fence.csv  \n",
            "  inflating: data/train_simplified/yoga.csv  \n",
            "  inflating: data/train_simplified/horse.csv  \n",
            "  inflating: data/train_simplified/sandwich.csv  \n",
            "  inflating: data/train_simplified/cat.csv  \n",
            "  inflating: data/train_simplified/camouflage.csv  \n",
            "  inflating: data/train_simplified/mosquito.csv  \n",
            "  inflating: data/train_simplified/see saw.csv  \n",
            "  inflating: data/train_simplified/onion.csv  \n",
            "  inflating: data/train_simplified/grapes.csv  \n",
            "  inflating: data/train_simplified/chandelier.csv  \n",
            "  inflating: data/train_simplified/stitches.csv  \n",
            "  inflating: data/train_simplified/sink.csv  \n",
            "  inflating: data/train_simplified/trumpet.csv  \n",
            "  inflating: data/train_simplified/cell phone.csv  \n",
            "  inflating: data/train_simplified/skyscraper.csv  \n",
            "  inflating: data/train_simplified/hourglass.csv  \n",
            "  inflating: data/train_simplified/donut.csv  \n",
            "  inflating: data/train_simplified/ceiling fan.csv  \n",
            "  inflating: data/train_simplified/bowtie.csv  \n",
            "  inflating: data/train_simplified/lipstick.csv  \n",
            "  inflating: data/train_simplified/suitcase.csv  \n",
            "  inflating: data/train_simplified/moon.csv  \n",
            "  inflating: data/train_simplified/dishwasher.csv  \n",
            "  inflating: data/train_simplified/mermaid.csv  \n",
            "  inflating: data/train_simplified/crocodile.csv  \n",
            "  inflating: data/train_simplified/tiger.csv  \n",
            "  inflating: data/train_simplified/trombone.csv  \n",
            "  inflating: data/train_simplified/hot air balloon.csv  \n",
            "  inflating: data/train_simplified/bread.csv  \n",
            "  inflating: data/train_simplified/bottlecap.csv  \n",
            "  inflating: data/train_simplified/mountain.csv  \n",
            "  inflating: data/train_simplified/pool.csv  \n",
            "  inflating: data/train_simplified/snake.csv  \n",
            "  inflating: data/train_simplified/dog.csv  \n",
            "  inflating: data/train_simplified/ambulance.csv  \n",
            "  inflating: data/train_simplified/backpack.csv  \n",
            "  inflating: data/train_simplified/dumbbell.csv  \n",
            "  inflating: data/train_simplified/elbow.csv  \n",
            "  inflating: data/train_simplified/frog.csv  \n",
            "  inflating: data/train_simplified/screwdriver.csv  \n",
            "  inflating: data/train_simplified/fire hydrant.csv  \n",
            "  inflating: data/train_simplified/squiggle.csv  \n",
            "  inflating: data/train_simplified/dresser.csv  \n",
            "  inflating: data/train_simplified/axe.csv  \n",
            "  inflating: data/train_simplified/mailbox.csv  \n",
            "  inflating: data/train_simplified/cannon.csv  \n",
            "  inflating: data/train_simplified/bear.csv  \n",
            "  inflating: data/train_simplified/hand.csv  \n",
            "  inflating: data/train_simplified/toilet.csv  \n",
            "  inflating: data/train_simplified/garden hose.csv  \n",
            "  inflating: data/train_simplified/tennis racquet.csv  \n",
            "  inflating: data/train_simplified/cup.csv  \n",
            "  inflating: data/train_simplified/drums.csv  \n",
            "  inflating: data/train_simplified/hat.csv  \n",
            "  inflating: data/train_simplified/bucket.csv  \n",
            "  inflating: data/train_simplified/stop sign.csv  \n",
            "  inflating: data/train_simplified/remote control.csv  \n",
            "  inflating: data/train_simplified/key.csv  \n",
            "  inflating: data/train_simplified/penguin.csv  \n",
            "  inflating: data/train_simplified/cookie.csv  \n",
            "  inflating: data/train_simplified/blackberry.csv  \n",
            "  inflating: data/train_simplified/shoe.csv  \n",
            "  inflating: data/train_simplified/popsicle.csv  \n",
            "  inflating: data/train_simplified/cruise ship.csv  \n",
            "  inflating: data/train_simplified/rabbit.csv  \n",
            "  inflating: data/train_simplified/spreadsheet.csv  \n",
            "  inflating: data/train_simplified/microwave.csv  \n",
            "  inflating: data/train_simplified/ant.csv  \n",
            "  inflating: data/train_simplified/parrot.csv  \n",
            "  inflating: data/train_simplified/wine bottle.csv  \n",
            "  inflating: data/train_simplified/bat.csv  \n",
            "  inflating: data/train_simplified/traffic light.csv  \n",
            "  inflating: data/train_simplified/whale.csv  \n",
            "  inflating: data/train_simplified/wheel.csv  \n",
            "  inflating: data/train_simplified/hockey stick.csv  \n",
            "  inflating: data/train_simplified/squirrel.csv  \n",
            "  inflating: data/train_simplified/panda.csv  \n",
            "  inflating: data/train_simplified/line.csv  \n",
            "  inflating: data/train_simplified/picture frame.csv  \n",
            "  inflating: data/train_simplified/finger.csv  \n",
            "  inflating: data/train_simplified/sailboat.csv  \n",
            "  inflating: data/train_simplified/compass.csv  \n",
            "  inflating: data/train_simplified/mouth.csv  \n",
            "  inflating: data/train_simplified/eraser.csv  \n",
            "  inflating: data/train_simplified/ladder.csv  \n",
            "  inflating: data/train_simplified/bench.csv  \n",
            "  inflating: data/train_simplified/frying pan.csv  \n",
            "  inflating: data/train_simplified/goatee.csv  \n",
            "  inflating: data/train_simplified/school bus.csv  \n",
            "  inflating: data/train_simplified/camel.csv  \n",
            "  inflating: data/train_simplified/flamingo.csv  \n",
            "  inflating: data/train_simplified/baseball bat.csv  \n",
            "  inflating: data/train_simplified/floor lamp.csv  \n",
            "  inflating: data/train_simplified/hedgehog.csv  \n",
            "  inflating: data/train_simplified/stereo.csv  \n",
            "  inflating: data/train_simplified/bridge.csv  \n",
            "  inflating: data/train_simplified/broccoli.csv  \n",
            "  inflating: data/train_simplified/blueberry.csv  \n",
            "  inflating: data/train_simplified/bathtub.csv  \n",
            "  inflating: data/train_simplified/cooler.csv  \n",
            "  inflating: data/train_simplified/coffee cup.csv  \n",
            "  inflating: data/train_simplified/grass.csv  \n",
            "  inflating: data/train_simplified/pickup truck.csv  \n",
            "  inflating: data/train_simplified/toe.csv  \n",
            "  inflating: data/train_simplified/monkey.csv  \n",
            "  inflating: data/train_simplified/string bean.csv  \n",
            "  inflating: data/train_simplified/soccer ball.csv  \n",
            "  inflating: data/train_simplified/zigzag.csv  \n",
            "  inflating: data/train_simplified/helicopter.csv  \n",
            "  inflating: data/train_simplified/smiley face.csv  \n",
            "  inflating: data/train_simplified/pig.csv  \n",
            "  inflating: data/train_simplified/octagon.csv  \n",
            "  inflating: data/train_simplified/skull.csv  \n",
            "  inflating: data/train_simplified/hospital.csv  \n",
            "  inflating: data/train_simplified/firetruck.csv  \n",
            "  inflating: data/train_simplified/leaf.csv  \n",
            "  inflating: data/train_simplified/megaphone.csv  \n",
            "  inflating: data/train_simplified/apple.csv  \n",
            "  inflating: data/train_simplified/stove.csv  \n",
            "  inflating: data/train_simplified/lightning.csv  \n",
            "  inflating: data/train_simplified/fireplace.csv  \n",
            "  inflating: data/train_simplified/banana.csv  \n",
            "  inflating: data/train_simplified/fork.csv  \n",
            "  inflating: data/train_simplified/foot.csv  \n",
            "  inflating: data/train_simplified/saw.csv  \n",
            "  inflating: data/train_simplified/purse.csv  \n",
            "  inflating: data/train_simplified/sword.csv  \n",
            "  inflating: data/train_simplified/saxophone.csv  \n",
            "  inflating: data/train_simplified/washing machine.csv  \n",
            "  inflating: data/train_simplified/parachute.csv  \n",
            "  inflating: data/train_simplified/alarm clock.csv  \n",
            "  inflating: data/train_simplified/anvil.csv  \n",
            "  inflating: data/train_simplified/birthday cake.csv  \n",
            "  inflating: data/train_simplified/snowman.csv  \n",
            "  inflating: data/train_simplified/beach.csv  \n",
            "  inflating: data/train_simplified/boomerang.csv  \n",
            "  inflating: data/train_simplified/snorkel.csv  \n",
            "  inflating: data/train_simplified/underwear.csv  \n",
            "  inflating: data/train_simplified/pillow.csv  \n",
            "  inflating: data/train_simplified/keyboard.csv  \n",
            "  inflating: data/train_simplified/sleeping bag.csv  \n",
            "  inflating: data/train_simplified/pear.csv  \n",
            "  inflating: data/train_simplified/church.csv  \n",
            "  inflating: data/train_simplified/ocean.csv  \n",
            "  inflating: data/train_simplified/headphones.csv  \n",
            "  inflating: data/train_simplified/lighthouse.csv  \n",
            "  inflating: data/train_simplified/star.csv  \n",
            "  inflating: data/train_simplified/campfire.csv  \n",
            "  inflating: data/train_simplified/rake.csv  \n",
            "  inflating: data/train_simplified/shark.csv  \n",
            "  inflating: data/train_simplified/camera.csv  \n",
            "  inflating: data/train_simplified/guitar.csv  \n",
            "  inflating: data/train_simplified/rain.csv  \n",
            "  inflating: data/train_simplified/calendar.csv  \n",
            "  inflating: data/train_simplified/vase.csv  \n",
            "  inflating: data/train_simplified/flower.csv  \n",
            "  inflating: data/train_simplified/sweater.csv  \n",
            "  inflating: data/train_simplified/mug.csv  \n",
            "  inflating: data/train_simplified/jail.csv  \n",
            "  inflating: data/train_simplified/telephone.csv  \n",
            "  inflating: data/train_simplified/pencil.csv  \n",
            "  inflating: data/train_simplified/speedboat.csv  \n",
            "  inflating: data/train_simplified/scorpion.csv  \n",
            "  inflating: data/train_simplified/flying saucer.csv  \n",
            "  inflating: data/train_simplified/jacket.csv  \n",
            "  inflating: data/train_simplified/microphone.csv  \n",
            "  inflating: data/train_simplified/cloud.csv  \n",
            "  inflating: data/train_simplified/marker.csv  \n",
            "  inflating: data/train_simplified/shovel.csv  \n",
            "  inflating: data/train_simplified/raccoon.csv  \n",
            "  inflating: data/train_simplified/steak.csv  \n",
            "  inflating: data/train_simplified/face.csv  \n",
            "  inflating: data/train_simplified/brain.csv  \n",
            "  inflating: data/train_simplified/passport.csv  \n",
            "  inflating: data/train_simplified/basketball.csv  \n",
            "  inflating: data/train_simplified/diamond.csv  \n",
            "  inflating: data/train_simplified/train.csv  \n",
            "  inflating: data/train_simplified/tent.csv  \n",
            "  inflating: data/train_simplified/beard.csv  \n",
            "  inflating: data/train_simplified/flip flops.csv  \n",
            "  inflating: data/train_simplified/kangaroo.csv  \n",
            "  inflating: data/train_simplified/tornado.csv  \n",
            "  inflating: data/train_simplified/house plant.csv  \n",
            "  inflating: data/train_simplified/lantern.csv  \n",
            "  inflating: data/train_simplified/canoe.csv  \n",
            "  inflating: data/train_simplified/castle.csv  \n",
            "  inflating: data/train_simplified/diving board.csv  \n",
            "  inflating: data/train_simplified/barn.csv  \n",
            "  inflating: data/train_simplified/bed.csv  \n",
            "  inflating: data/train_simplified/nail.csv  \n",
            "  inflating: data/train_simplified/hockey puck.csv  \n",
            "  inflating: data/train_simplified/peanut.csv  \n",
            "  inflating: data/train_simplified/bush.csv  \n",
            "  inflating: data/train_simplified/bus.csv  \n",
            "  inflating: data/train_simplified/animal migration.csv  \n",
            "  inflating: data/train_simplified/book.csv  \n",
            "  inflating: data/train_simplified/river.csv  \n",
            "  inflating: data/train_simplified/pizza.csv  \n",
            "  inflating: data/train_simplified/sheep.csv  \n",
            "  inflating: data/train_simplified/lion.csv  \n",
            "  inflating: data/train_simplified/postcard.csv  \n",
            "  inflating: data/train_simplified/sea turtle.csv  \n",
            "  inflating: data/train_simplified/roller coaster.csv  \n",
            "  inflating: data/train_simplified/ice cream.csv  \n",
            "  inflating: data/train_simplified/cello.csv  \n",
            "  inflating: data/train_simplified/strawberry.csv  \n",
            "  inflating: data/train_simplified/fan.csv  \n",
            "  inflating: data/train_simplified/drill.csv  \n",
            "  inflating: data/train_simplified/calculator.csv  \n",
            "  inflating: data/train_simplified/octopus.csv  \n",
            "  inflating: data/train_simplified/pineapple.csv  \n",
            "  inflating: data/train_simplified/hexagon.csv  \n",
            "  inflating: data/train_simplified/dragon.csv  \n",
            "  inflating: data/train_simplified/bicycle.csv  \n",
            "  inflating: data/train_simplified/square.csv  \n",
            "  inflating: data/train_simplified/tractor.csv  \n",
            "  inflating: data/train_simplified/toaster.csv  \n",
            "  inflating: data/train_simplified/butterfly.csv  \n",
            "  inflating: data/train_simplified/harp.csv  \n",
            "  inflating: data/train_simplified/crayon.csv  \n",
            "  inflating: data/train_simplified/t-shirt.csv  \n",
            "  inflating: data/train_simplified/necklace.csv  \n",
            "  inflating: data/train_simplified/paintbrush.csv  \n",
            "  inflating: data/train_simplified/bandage.csv  \n",
            "  inflating: data/train_simplified/arm.csv  \n",
            "  inflating: data/train_simplified/paint can.csv  \n",
            "  inflating: data/train_simplified/hot dog.csv  \n",
            "  inflating: data/train_simplified/swing set.csv  \n",
            "  inflating: data/train_simplified/door.csv  \n",
            "  inflating: data/train_simplified/dolphin.csv  \n",
            "  inflating: data/train_simplified/mouse.csv  \n",
            "  inflating: data/train_simplified/piano.csv  \n",
            "  inflating: data/train_simplified/mushroom.csv  \n",
            "  inflating: data/train_simplified/nose.csv  \n",
            "  inflating: data/train_simplified/bird.csv  \n",
            "  inflating: data/train_simplified/fish.csv  \n",
            "  inflating: data/train_simplified/table.csv  \n",
            "  inflating: data/train_simplified/light bulb.csv  \n",
            "  inflating: data/train_simplified/crown.csv  \n",
            "  inflating: data/train_simplified/duck.csv  \n",
            "  inflating: data/train_simplified/The Eiffel Tower.csv  \n",
            "  inflating: data/train_simplified/house.csv  \n",
            "  inflating: data/train_simplified/palm tree.csv  \n",
            "  inflating: data/train_simplified/cactus.csv  \n",
            "  inflating: data/train_simplified/hot tub.csv  \n",
            "  inflating: data/train_simplified/bee.csv  \n",
            "  inflating: data/train_simplified/bracelet.csv  \n",
            "  inflating: data/train_simplified/wine glass.csv  \n",
            "  inflating: data/train_simplified/The Mona Lisa.csv  \n",
            "  inflating: data/train_simplified/bulldozer.csv  \n",
            "  inflating: data/train_simplified/scissors.csv  \n",
            "  inflating: data/train_simplified/moustache.csv  \n",
            "  inflating: data/train_simplified/owl.csv  \n",
            "  inflating: data/train_simplified/eyeglasses.csv  \n",
            "  inflating: data/train_simplified/helmet.csv  \n",
            "  inflating: data/train_simplified/teapot.csv  \n",
            "  inflating: data/train_simplified/streetlight.csv  \n",
            "  inflating: data/train_simplified/candle.csv  \n",
            "  inflating: data/train_simplified/swan.csv  \n",
            "  inflating: data/train_simplified/map.csv  \n",
            "  inflating: data/train_simplified/angel.csv  \n",
            "  inflating: data/train_simplified/sock.csv  \n",
            "  inflating: data/train_simplified/rhinoceros.csv  \n",
            "  inflating: data/train_simplified/wristwatch.csv  \n",
            "  inflating: data/train_simplified/garden.csv  \n",
            "  inflating: data/train_simplified/leg.csv  \n",
            "  inflating: data/train_simplified/golf club.csv  \n",
            "  inflating: data/train_simplified/hurricane.csv  \n",
            "  inflating: data/train_simplified/matches.csv  \n",
            "  inflating: data/train_simplified/umbrella.csv  \n",
            "  inflating: data/train_simplified/pants.csv  \n",
            "  inflating: data/train_simplified/laptop.csv  \n",
            "  inflating: data/train_simplified/pond.csv  \n",
            "  inflating: data/train_simplified/spoon.csv  \n",
            "  inflating: data/train_simplified/asparagus.csv  \n",
            "  inflating: data/train_simplified/stairs.csv  \n",
            "  inflating: data/train_simplified/eye.csv  \n",
            "  inflating: data/train_simplified/submarine.csv  \n",
            "  inflating: data/train_simplified/cow.csv  \n",
            "  inflating: data/train_simplified/couch.csv  \n",
            "  inflating: data/train_simplified/broom.csv  \n",
            "  inflating: data/train_simplified/flashlight.csv  \n",
            "  inflating: data/train_simplified/potato.csv  \n",
            "  inflating: data/train_simplified/baseball.csv  \n",
            "  inflating: data/train_simplified/tree.csv  \n",
            "  inflating: data/train_simplified/circle.csv  \n",
            "  inflating: data/train_simplified/radio.csv  \n",
            "  inflating: data/train_simplified/clock.csv  \n",
            "  inflating: data/train_simplified/hammer.csv  \n",
            "  inflating: data/train_simplified/sun.csv  \n",
            "  inflating: data/train_simplified/stethoscope.csv  \n",
            "  inflating: data/train_simplified/ear.csv  \n",
            "  inflating: data/train_simplified/watermelon.csv  \n",
            "  inflating: data/train_simplified/cake.csv  \n",
            "  inflating: data/train_simplified/paper clip.csv  \n",
            "  inflating: data/train_simplified/windmill.csv  \n",
            "  inflating: data/train_simplified/violin.csv  \n",
            "  inflating: data/train_simplified/belt.csv  \n",
            "  inflating: data/train_simplified/pliers.csv  \n",
            "  inflating: data/train_simplified/elephant.csv  \n",
            "  inflating: data/train_simplified/knee.csv  \n",
            "  inflating: data/train_simplified/triangle.csv  \n",
            "  inflating: data/train_simplified/feather.csv  \n",
            "  inflating: data/train_simplified/computer.csv  \n",
            "  inflating: data/train_simplified/rainbow.csv  \n",
            "  inflating: data/train_simplified/lollipop.csv  \n",
            "  inflating: data/train_simplified/police car.csv  \n",
            "  inflating: data/train_simplified/shorts.csv  \n",
            "  inflating: data/train_simplified/skateboard.csv  \n",
            "  inflating: data/train_simplified/rollerskates.csv  \n",
            "  inflating: data/train_simplified/zebra.csv  \n",
            "  inflating: data/train_simplified/motorbike.csv  \n",
            "  inflating: data/train_simplified/spider.csv  \n",
            "  inflating: data/train_simplified/snail.csv  \n",
            "  inflating: data/train_simplified/toothbrush.csv  \n",
            "  inflating: data/train_simplified/binoculars.csv  \n",
            "  inflating: data/train_simplified/waterslide.csv  \n",
            "  inflating: data/train_simplified/truck.csv  \n",
            "  inflating: data/train_simplified/chair.csv  \n",
            "  inflating: data/train_simplified/airplane.csv  \n",
            "  inflating: data/train_simplified/peas.csv  \n",
            "  inflating: data/train_simplified/envelope.csv  \n",
            "  inflating: data/train_simplified/tooth.csv  \n",
            "  inflating: data/train_simplified/The Great Wall of China.csv  \n",
            "  inflating: data/train_simplified/crab.csv  \n",
            "  inflating: data/train_simplified/van.csv  \n",
            "  inflating: data/train_simplified/clarinet.csv  \n",
            "  inflating: data/train_simplified/car.csv  \n",
            "  inflating: data/train_simplified/carrot.csv  \n",
            "  inflating: data/train_simplified/basket.csv  \n",
            "  inflating: data/train_simplified/snowflake.csv  \n",
            "  inflating: data/train_simplified/power outlet.csv  \n",
            "  inflating: data/train_simplified/hamburger.csv  \n",
            "  inflating: data/train_simplified/lobster.csv  \n",
            "  inflating: data/train_simplified/toothpaste.csv  \n",
            "  inflating: data/train_simplified/teddy-bear.csv  \n",
            "  inflating: data/train_simplified/television.csv  \n",
            "  inflating: data/train_simplified/oven.csv  \n",
            "  inflating: data/train_simplified/giraffe.csv  \n"
          ],
          "name": "stdout"
        }
      ]
    },
    {
      "metadata": {
        "id": "CB6KIXfcvV2n",
        "colab_type": "code",
        "colab": {}
      },
      "cell_type": "code",
      "source": [
        "# Remove zip file to free up space\n",
        "!rm data/train_simplified.zip\n"
      ],
      "execution_count": 0,
      "outputs": []
    },
    {
      "metadata": {
        "id": "8flCtxO8ZOf1",
        "colab_type": "text"
      },
      "cell_type": "markdown",
      "source": [
        "## Create Shuffle CSVs"
      ]
    },
    {
      "metadata": {
        "id": "XgoSoGSmZRMK",
        "colab_type": "code",
        "colab": {}
      },
      "cell_type": "code",
      "source": [
        "%matplotlib inline\n",
        "from IPython.core.interactiveshell import InteractiveShell\n",
        "InteractiveShell.ast_node_interactivity = \"all\"\n",
        "import json\n",
        "import os\n",
        "import shutil\n",
        "import pprint\n",
        "import datetime as dt\n",
        "from tqdm import tqdm\n",
        "from tqdm import tqdm_notebook\n",
        "import pandas as pd\n",
        "import numpy as np"
      ],
      "execution_count": 0,
      "outputs": []
    },
    {
      "metadata": {
        "id": "VwHqvqeuZSMC",
        "colab_type": "code",
        "colab": {}
      },
      "cell_type": "code",
      "source": [
        "def f2cat(filename: str) -> str:\n",
        "    return filename.split('.')[0]\n",
        "\n",
        "class Simplified():\n",
        "    def __init__(self, input_path='/data'):\n",
        "        self.input_path = input_path\n",
        "\n",
        "    def list_all_categories(self):\n",
        "        files = os.listdir(os.path.join(self.input_path, 'train_simplified'))\n",
        "        return sorted([f2cat(f) for f in files], key=str.lower)\n",
        "\n",
        "    def read_training_csv(self, category, nrows=None, usecols=None, drawing_transform=False):\n",
        "        df = pd.read_csv(os.path.join(self.input_path, 'train_simplified', category + '.csv'),\n",
        "                         nrows=nrows, parse_dates=['timestamp'], usecols=usecols)\n",
        "        if drawing_transform:\n",
        "            df['drawing'] = df['drawing'].apply(json.loads)\n",
        "        return df\n",
        "   \n",
        "# Count number rows   \n",
        "def sum1forline(filename):\n",
        "    with open(filename) as f:\n",
        "        return sum(1 for line in f)"
      ],
      "execution_count": 0,
      "outputs": []
    },
    {
      "metadata": {
        "id": "ulqLbfSTZUXx",
        "colab_type": "code",
        "outputId": "d3275316-7ed8-4ee5-9c10-5269d85573ea",
        "colab": {
          "base_uri": "https://localhost:8080/",
          "height": 34
        }
      },
      "cell_type": "code",
      "source": [
        "# No of Categories \n",
        "\n",
        "start = dt.datetime.now()\n",
        "s = Simplified('data')\n",
        "NCSVS = 100\n",
        "categories = s.list_all_categories()\n",
        "\n",
        "no_rows = 30000\n",
        "print(len(categories))"
      ],
      "execution_count": 0,
      "outputs": [
        {
          "output_type": "stream",
          "text": [
            "340\n"
          ],
          "name": "stdout"
        }
      ]
    },
    {
      "metadata": {
        "id": "ms7XwfwqsAKl",
        "colab_type": "code",
        "colab": {}
      },
      "cell_type": "code",
      "source": [
        "# # Count number of rows for each category\n",
        "# for y, cat in tqdm(enumerate(categories)):\n",
        "#   print(sum1forline('data/train_simplified/'+cat+'.csv'))"
      ],
      "execution_count": 0,
      "outputs": []
    },
    {
      "metadata": {
        "id": "2BLx1YJ3uS8x",
        "colab_type": "code",
        "outputId": "9f87a8f4-87a1-40a7-d2a5-36daff3c3474",
        "colab": {
          "base_uri": "https://localhost:8080/",
          "height": 34
        }
      },
      "cell_type": "code",
      "source": [
        "for y, cat in tqdm(enumerate(categories)):\n",
        "    df = s.read_training_csv(cat, nrows=no_rows)\n",
        "    df['y'] = y\n",
        "    df['cv'] = (df.key_id // 10 ** 7) % NCSVS\n",
        "    for k in range(NCSVS):\n",
        "        filename = 'train_k{}.csv'.format(k)\n",
        "        chunk = df[df.cv == k]\n",
        "        chunk = chunk.drop(['key_id'], axis=1)\n",
        "        if y == 0:\n",
        "            chunk.to_csv(filename, index=False)\n",
        "        else:\n",
        "            chunk.to_csv(filename, mode='a', header=False, index=False)"
      ],
      "execution_count": 0,
      "outputs": [
        {
          "output_type": "stream",
          "text": [
            "340it [05:41,  1.07it/s]\n"
          ],
          "name": "stderr"
        }
      ]
    },
    {
      "metadata": {
        "id": "iNWa9GzBsIcr",
        "colab_type": "code",
        "outputId": "467e4d66-c7d8-41bf-87c0-a6e85348c989",
        "colab": {
          "base_uri": "https://localhost:8080/",
          "height": 51
        }
      },
      "cell_type": "code",
      "source": [
        "for k in tqdm(range(NCSVS)):\n",
        "    filename = 'train_k{}.csv'.format(k)\n",
        "    if os.path.exists(filename):\n",
        "        df = pd.read_csv(filename)\n",
        "        df['rnd'] = np.random.rand(len(df))\n",
        "        df = df.sort_values(by='rnd').drop('rnd', axis=1)\n",
        "        df.to_csv(filename + '.gz', compression='gzip', index=False)\n",
        "        os.remove(filename)\n",
        "print(df.shape)"
      ],
      "execution_count": 0,
      "outputs": [
        {
          "output_type": "stream",
          "text": [
            "100%|██████████| 100/100 [50:31<00:00, 30.31s/it]"
          ],
          "name": "stderr"
        },
        {
          "output_type": "stream",
          "text": [
            "(102042, 7)\n"
          ],
          "name": "stdout"
        },
        {
          "output_type": "stream",
          "text": [
            "\n"
          ],
          "name": "stderr"
        }
      ]
    },
    {
      "metadata": {
        "id": "gUr2kf5-1Buf",
        "colab_type": "code",
        "colab": {}
      },
      "cell_type": "code",
      "source": [
        "# Move all gz to shuffle_csvs\n",
        "!mkdir shuffle_csvs\n",
        "!mv *.gz shuffle_csvs\n"
      ],
      "execution_count": 0,
      "outputs": []
    },
    {
      "metadata": {
        "id": "8I2J6JCRByrh",
        "colab_type": "text"
      },
      "cell_type": "markdown",
      "source": [
        "## Model Training"
      ]
    },
    {
      "metadata": {
        "id": "_PG1Vi5usYnj",
        "colab_type": "code",
        "outputId": "3f948cd6-7346-4e6f-a372-05409c4843ea",
        "colab": {
          "base_uri": "https://localhost:8080/",
          "height": 34
        }
      },
      "cell_type": "code",
      "source": [
        "%matplotlib inline\n",
        "from IPython.core.interactiveshell import InteractiveShell\n",
        "InteractiveShell.ast_node_interactivity = \"all\"\n",
        "import os\n",
        "import ast\n",
        "import datetime as dt\n",
        "import matplotlib.pyplot as plt\n",
        "plt.rcParams['figure.figsize'] = [16, 10]\n",
        "plt.rcParams['font.size'] = 14\n",
        "import seaborn as sns\n",
        "import cv2\n",
        "import pandas as pd\n",
        "import numpy as np\n",
        "import tensorflow as tf\n",
        "from tensorflow import keras\n",
        "from tensorflow.keras.layers import Conv2D, MaxPooling2D\n",
        "from tensorflow.keras.layers import Dense, Dropout, Flatten, Activation\n",
        "from tensorflow.keras.metrics import categorical_accuracy, top_k_categorical_accuracy, categorical_crossentropy\n",
        "from tensorflow.keras.models import Sequential\n",
        "from keras.callbacks import CSVLogger\n",
        "from tensorflow.keras.callbacks import EarlyStopping, ReduceLROnPlateau, ModelCheckpoint\n",
        "from tensorflow.keras.optimizers import Adam\n",
        "from tensorflow.keras.applications import MobileNet\n",
        "from tensorflow.keras.applications import ResNet50\n",
        "from tensorflow.keras.applications.mobilenet import preprocess_input\n",
        "start = dt.datetime.now()"
      ],
      "execution_count": 0,
      "outputs": [
        {
          "output_type": "stream",
          "text": [
            "Using TensorFlow backend.\n"
          ],
          "name": "stderr"
        }
      ]
    },
    {
      "metadata": {
        "id": "fJJGJZDSsaD8",
        "colab_type": "code",
        "colab": {}
      },
      "cell_type": "code",
      "source": [
        "# Change Paths appropriately\n",
        "DP_DIR = 'shuffle_csvs/'\n",
        "INPUT_DIR = 'data/'\n",
        "\n",
        "# Google Drive location\n",
        "OUTPUT_PATH = \"/content/gdrive/My Drive/colab_output/\"\n",
        "\n",
        "# Hyperparameters\n",
        "BASE_SIZE = 256\n",
        "NCSVS = 100\n",
        "NCATS = 340\n",
        "\n",
        "STEPS = 800\n",
        "EPOCHS = 16\n",
        "size = 64\n",
        "batchsize = 560\n",
        "stroke_shade = 13 # The amount to lighten the subsequent strokes by\n",
        "\n",
        "# Name this experiment \n",
        "exp_name= \"mk1\"\n",
        "description= \"Testing\"\n",
        "\n",
        "\n",
        "# Seed initialisation\n",
        "np.random.seed(seed=1987)\n",
        "tf.set_random_seed(seed=1987)\n"
      ],
      "execution_count": 0,
      "outputs": []
    },
    {
      "metadata": {
        "id": "lHOyF-8uCdrE",
        "colab_type": "code",
        "colab": {}
      },
      "cell_type": "code",
      "source": [
        "# Initialise CSV Logger \n",
        "csv_logger = CSVLogger(OUTPUT_PATH+exp_name+'.csv', append=True, separator=',')"
      ],
      "execution_count": 0,
      "outputs": []
    },
    {
      "metadata": {
        "id": "SNRw0vW-B8uE",
        "colab_type": "code",
        "colab": {}
      },
      "cell_type": "code",
      "source": [
        "def f2cat(filename: str) -> str:\n",
        "    return filename.split('.')[0]\n",
        "\n",
        "def list_all_categories():\n",
        "    files = os.listdir(os.path.join(INPUT_DIR, 'train_simplified'))\n",
        "    return sorted([f2cat(f) for f in files], key=str.lower)"
      ],
      "execution_count": 0,
      "outputs": []
    },
    {
      "metadata": {
        "id": "85OCg8uasdAc",
        "colab_type": "code",
        "colab": {}
      },
      "cell_type": "code",
      "source": [
        "def apk(actual, predicted, k=3):\n",
        "    \"\"\"\n",
        "    Source: https://github.com/benhamner/Metrics/blob/master/Python/ml_metrics/average_precision.py\n",
        "    \"\"\"\n",
        "    if len(predicted) > k:\n",
        "        predicted = predicted[:k]\n",
        "\n",
        "    score = 0.0\n",
        "    num_hits = 0.0\n",
        "\n",
        "    for i, p in enumerate(predicted):\n",
        "        if p in actual and p not in predicted[:i]:\n",
        "            num_hits += 1.0\n",
        "            score += num_hits / (i + 1.0)\n",
        "\n",
        "    if not actual:\n",
        "        return 0.0\n",
        "\n",
        "    return score / min(len(actual), k)\n",
        "\n",
        "def mapk(actual, predicted, k=3):\n",
        "    \"\"\"\n",
        "    Source: https://github.com/benhamner/Metrics/blob/master/Python/ml_metrics/average_precision.py\n",
        "    \"\"\"\n",
        "    return np.mean([apk(a, p, k) for a, p in zip(actual, predicted)])\n",
        "\n",
        "def preds2catids(predictions):\n",
        "    return pd.DataFrame(np.argsort(-predictions, axis=1)[:, :3], columns=['a', 'b', 'c'])\n",
        "\n",
        "def top_3_accuracy(y_true, y_pred):\n",
        "    return top_k_categorical_accuracy(y_true, y_pred, k=3)"
      ],
      "execution_count": 0,
      "outputs": []
    },
    {
      "metadata": {
        "id": "P_xNWd6-Ckw6",
        "colab_type": "text"
      },
      "cell_type": "markdown",
      "source": [
        "## Model\n",
        "Comment out the code block if TPU or GPU"
      ]
    },
    {
      "metadata": {
        "id": "7odZ2HBK0HES",
        "colab_type": "code",
        "colab": {}
      },
      "cell_type": "code",
      "source": [
        "# Clear past graphs and memory\n",
        "tf.keras.backend.clear_session()\n",
        "\n",
        "## Using GPU\n",
        "\n",
        "model = ResNet50(input_shape=(size, size, 1), weights=None, classes=NCATS)\n",
        "model.compile(optimizer=Adam(lr=0.002), loss='categorical_crossentropy',\n",
        "              metrics=[categorical_crossentropy, categorical_accuracy, top_3_accuracy])\n",
        "print(model.summary())"
      ],
      "execution_count": 0,
      "outputs": []
    },
    {
      "metadata": {
        "id": "87JZEyTlsiK4",
        "colab_type": "text"
      },
      "cell_type": "markdown",
      "source": [
        "## Image Generator"
      ]
    },
    {
      "metadata": {
        "id": "4rDPZnvfsidM",
        "colab_type": "code",
        "colab": {}
      },
      "cell_type": "code",
      "source": [
        "def draw_cv2(raw_strokes, size=256, lw=6, time_color=True):\n",
        "    img = np.zeros((BASE_SIZE, BASE_SIZE), np.uint8)\n",
        "    for t, stroke in enumerate(raw_strokes):\n",
        "        for i in range(len(stroke[0]) - 1):\n",
        "            # For the first 10 strokes reduce each stroke by x(stroke_shade) points\n",
        "            color = 255 - min(t, 10) * stroke_shade if time_color else 255\n",
        "            _ = cv2.line(img, (stroke[0][i], stroke[1][i]),\n",
        "                         (stroke[0][i + 1], stroke[1][i + 1]), color, lw)\n",
        "    if size != BASE_SIZE:\n",
        "        return cv2.resize(img, (size, size))\n",
        "    else:\n",
        "        return img\n",
        "\n",
        "def image_generator_xd(size, batchsize, ks, lw=6, time_color=True):\n",
        "    while True:\n",
        "        for k in np.random.permutation(ks):\n",
        "            filename = os.path.join(DP_DIR, 'train_k{}.csv.gz'.format(k))\n",
        "            for df in pd.read_csv(filename, chunksize=batchsize):\n",
        "                df['drawing'] = df['drawing'].apply(ast.literal_eval)\n",
        "                x = np.zeros((len(df), size, size, 1))\n",
        "                for i, raw_strokes in enumerate(df.drawing.values):\n",
        "                    x[i, :, :, 0] = draw_cv2(raw_strokes, size=size, lw=lw,\n",
        "                                             time_color=time_color)\n",
        "                x = preprocess_input(x).astype(np.float32)\n",
        "                y = keras.utils.to_categorical(df.y, num_classes=NCATS)\n",
        "                yield x, y\n",
        "\n",
        "def df_to_image_array_xd(df, size, lw=6, time_color=True):\n",
        "    df['drawing'] = df['drawing'].apply(ast.literal_eval)\n",
        "    x = np.zeros((len(df), size, size, 1))\n",
        "    for i, raw_strokes in enumerate(df.drawing.values):\n",
        "        x[i, :, :, 0] = draw_cv2(raw_strokes, size=size, lw=lw, time_color=time_color)\n",
        "    x = preprocess_input(x).astype(np.float32)\n",
        "    return x"
      ],
      "execution_count": 0,
      "outputs": []
    },
    {
      "metadata": {
        "id": "_WdImDBeslMm",
        "colab_type": "code",
        "outputId": "61314213-2289-4ac4-d88b-94ed8a01736f",
        "colab": {
          "base_uri": "https://localhost:8080/",
          "height": 51
        }
      },
      "cell_type": "code",
      "source": [
        "valid_df = pd.read_csv(os.path.join(DP_DIR, 'train_k{}.csv.gz'.format(NCSVS - 1)), nrows=60000)\n",
        "x_valid = df_to_image_array_xd(valid_df, size)\n",
        "y_valid = keras.utils.to_categorical(valid_df.y, num_classes=NCATS)\n",
        "print(x_valid.shape, y_valid.shape)\n",
        "print('Validation array memory {:.2f} GB'.format(x_valid.nbytes / 1024.**3 ))"
      ],
      "execution_count": 0,
      "outputs": [
        {
          "output_type": "stream",
          "text": [
            "(60000, 64, 64, 1) (60000, 340)\n",
            "Validation array memory 0.92 GB\n"
          ],
          "name": "stdout"
        }
      ]
    },
    {
      "metadata": {
        "id": "lmgjxZ0guti3",
        "colab_type": "code",
        "colab": {}
      },
      "cell_type": "code",
      "source": [
        "train_datagen = image_generator_xd(size=size, batchsize=batchsize, ks=range(NCSVS - 1))"
      ],
      "execution_count": 0,
      "outputs": []
    },
    {
      "metadata": {
        "id": "3KN5OV-dumg_",
        "colab_type": "code",
        "outputId": "e8726eda-d4dc-4783-9e65-113c6ceb67c4",
        "colab": {
          "base_uri": "https://localhost:8080/",
          "height": 885
        }
      },
      "cell_type": "code",
      "source": [
        "x, y = next(train_datagen)\n",
        "n = 8\n",
        "fig, axs = plt.subplots(nrows=n, ncols=n, sharex=True, sharey=True, figsize=(12, 12))\n",
        "for i in range(n**2):\n",
        "    ax = axs[i // n, i % n]\n",
        "    (-x[i]+1)/2\n",
        "    ax.imshow((-x[i, :, :, 0] + 1)/2, cmap=plt.cm.gray)\n",
        "    ax.axis('off')\n",
        "plt.tight_layout()\n",
        "fig.savefig('gs.png', dpi=300)\n",
        "plt.show();"
      ],
      "execution_count": 0,
      "outputs": [
        {
          "output_type": "display_data",
          "data": {
            "image/png": "[encoded data removed]",
            "text/plain": [
              "<matplotlib.figure.Figure at 0x7fb69140bd30>"
            ]
          },
          "metadata": {
            "tags": []
          }
        }
      ]
    },
    {
      "metadata": {
        "id": "mAyXDU04uvdc",
        "colab_type": "code",
        "outputId": "9b3094c3-d3a4-4cd6-838d-a72a6b5f5c5a",
        "colab": {
          "base_uri": "https://localhost:8080/",
          "height": 173
        }
      },
      "cell_type": "code",
      "source": [
        "callbacks = [\n",
        "    ReduceLROnPlateau(monitor='val_categorical_accuracy', factor=0.5, patience=5,\n",
        "                      min_delta=0.005, mode='max', cooldown=3, verbose=1),\n",
        "    ModelCheckpoint(OUTPUT_PATH+exp_name+'.h5', monitor='val_categorical_accuracy', verbose=0, save_best_only=True),\n",
        "    csv_logger,\n",
        "    \n",
        "]\n",
        "hists = []\n",
        "hist = model.fit_generator(\n",
        "    train_datagen, steps_per_epoch=STEPS, epochs=EPOCHS, verbose=1,\n",
        "    validation_data=(x_valid, y_valid),\n",
        "    callbacks = callbacks\n",
        ")\n",
        "hists.append(hist)\n",
        "\n"
      ],
      "execution_count": 0,
      "outputs": [
        {
          "output_type": "stream",
          "text": [
            "Epoch 1/16\n",
            "800/800 [==============================] - 1150s 1s/step - loss: 2.6396 - categorical_crossentropy: 2.6396 - categorical_accuracy: 0.4128 - top_3_accuracy: 0.6034 - val_loss: 2.8466 - val_categorical_crossentropy: 2.8466 - val_categorical_accuracy: 0.3991 - val_top_3_accuracy: 0.5850\n",
            "Epoch 2/16\n",
            "800/800 [==============================] - 1119s 1s/step - loss: 1.6492 - categorical_crossentropy: 1.6492 - categorical_accuracy: 0.6013 - top_3_accuracy: 0.7949 - val_loss: 1.8604 - val_categorical_crossentropy: 1.8604 - val_categorical_accuracy: 0.5493 - val_top_3_accuracy: 0.7554\n",
            "Epoch 3/16\n",
            "800/800 [==============================] - 1121s 1s/step - loss: 1.4416 - categorical_crossentropy: 1.4416 - categorical_accuracy: 0.6477 - top_3_accuracy: 0.8309 - val_loss: 1.4633 - val_categorical_crossentropy: 1.4633 - val_categorical_accuracy: 0.6368 - val_top_3_accuracy: 0.8237\n",
            "Epoch 4/16\n",
            "340/800 [===========>..................] - ETA: 10:17 - loss: 1.3604 - categorical_crossentropy: 1.3604 - categorical_accuracy: 0.6659 - top_3_accuracy: 0.8428"
          ],
          "name": "stdout"
        }
      ]
    },
    {
      "metadata": {
        "id": "Sz51OFNWySL3",
        "colab_type": "code",
        "colab": {}
      },
      "cell_type": "code",
      "source": [
        "hist_df = pd.concat([pd.DataFrame(hist.history) for hist in hists], sort=True)\n",
        "hist_df.index = np.arange(1, len(hist_df)+1)\n",
        "fig, axs = plt.subplots(nrows=2, sharex=True, figsize=(16, 10))\n",
        "axs[0].plot(hist_df.val_categorical_accuracy, lw=5, label='Validation Accuracy')\n",
        "axs[0].plot(hist_df.categorical_accuracy, lw=5, label='Training Accuracy')\n",
        "axs[0].set_ylabel('Accuracy')\n",
        "axs[0].set_xlabel('Epoch')\n",
        "axs[0].grid()\n",
        "axs[0].legend(loc=0)\n",
        "axs[1].plot(hist_df.val_categorical_crossentropy, lw=5, label='Validation MLogLoss')\n",
        "axs[1].plot(hist_df.categorical_crossentropy, lw=5, label='Training MLogLoss')\n",
        "axs[1].set_ylabel('MLogLoss')\n",
        "axs[1].set_xlabel('Epoch')\n",
        "axs[1].grid()\n",
        "axs[1].legend(loc=0)\n",
        "fig.savefig('hist.png', dpi=300)\n",
        "plt.show();"
      ],
      "execution_count": 0,
      "outputs": []
    },
    {
      "metadata": {
        "id": "1NB_sR-RyUSM",
        "colab_type": "code",
        "colab": {}
      },
      "cell_type": "code",
      "source": [
        "valid_predictions = model.predict(x_valid, batch_size=128, verbose=1)\n",
        "map3 = mapk(valid_df[['y']].values, preds2catids(valid_predictions).values)\n",
        "print('Map3: {:.3f}'.format(map3))"
      ],
      "execution_count": 0,
      "outputs": []
    },
    {
      "metadata": {
        "id": "Q1yPr_6mycx1",
        "colab_type": "code",
        "colab": {}
      },
      "cell_type": "code",
      "source": [
        "#Save to result to google drive with hyperparameters\n",
        "\n",
        "map3_str= str(round(map3,3))\n",
        "\n",
        "hyperparameters_details = str( 'STEPS:'+str(STEPS)+'  EPOCHS:'+str(EPOCHS)+'  Size:'+str(size)+'  Batchsize:'+str(batchsize) )\n",
        "with open('/content/gdrive/My Drive/colab_output/results-'+exp_name+'__'+map3_str+'.txt', 'w') as f:\n",
        "  f.write(hyperparameters_details)\n"
      ],
      "execution_count": 0,
      "outputs": []
    },
    {
      "metadata": {
        "id": "eBfAOzJVC09L",
        "colab_type": "text"
      },
      "cell_type": "markdown",
      "source": [
        "## Create Submission"
      ]
    },
    {
      "metadata": {
        "id": "0wgviS6GDBIQ",
        "colab_type": "code",
        "colab": {}
      },
      "cell_type": "code",
      "source": [
        "# Download Test CSV\n",
        "!kaggle competitions download -c quickdraw-doodle-recognition -f test_simplified.csv\n",
        "!mv test_simplified.csv data"
      ],
      "execution_count": 0,
      "outputs": []
    },
    {
      "metadata": {
        "id": "1V2LN9_LzDEZ",
        "colab_type": "code",
        "colab": {}
      },
      "cell_type": "code",
      "source": [
        "test = pd.read_csv(os.path.join(INPUT_DIR, 'test_simplified.csv'))\n",
        "test.head()\n",
        "x_test = df_to_image_array_xd(test, size)\n",
        "print(test.shape, x_test.shape)\n",
        "print('Test array memory {:.2f} GB'.format(x_test.nbytes / 1024.**3 ))"
      ],
      "execution_count": 0,
      "outputs": []
    },
    {
      "metadata": {
        "id": "J1gslxhWDfVe",
        "colab_type": "code",
        "colab": {}
      },
      "cell_type": "code",
      "source": [
        "test_predictions = model.predict(x_test, batch_size=128, verbose=1)\n",
        "\n",
        "top3 = preds2catids(test_predictions)\n",
        "top3.head()\n",
        "top3.shape\n",
        "\n",
        "cats = list_all_categories()\n",
        "id2cat = {k: cat.replace(' ', '_') for k, cat in enumerate(cats)}\n",
        "top3cats = top3.replace(id2cat)\n",
        "top3cats.head()\n",
        "top3cats.shape"
      ],
      "execution_count": 0,
      "outputs": []
    },
    {
      "metadata": {
        "id": "ALZpPDIuDmNB",
        "colab_type": "code",
        "colab": {}
      },
      "cell_type": "code",
      "source": [
        "test['word'] = top3cats['a'] + ' ' + top3cats['b'] + ' ' + top3cats['c']\n",
        "submission = test[['key_id', 'word']]\n",
        "submission.to_csv('submission-'+exp_name+'.csv', index=False)\n",
        "submission.head()\n",
        "submission.shape"
      ],
      "execution_count": 0,
      "outputs": []
    },
    {
      "metadata": {
        "id": "IHnE0l2uLuW4",
        "colab_type": "code",
        "colab": {}
      },
      "cell_type": "code",
      "source": [
        "# Save Submission to Google Drive\n",
        "\n",
        "sub_filename='submission-'+exp_name+'.csv'\n",
        "\n",
        "shutil.move(sub_filename, OUTPUT_PATH+sub_filename)"
      ],
      "execution_count": 0,
      "outputs": []
    },
    {
      "metadata": {
        "id": "ozZ54YXNq2bI",
        "colab_type": "code",
        "colab": {}
      },
      "cell_type": "code",
      "source": [
        ""
      ],
      "execution_count": 0,
      "outputs": []
    }
  ]
}