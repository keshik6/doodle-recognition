{
 "cells": [
  {
   "cell_type": "code",
   "execution_count": 7,
   "metadata": {},
   "outputs": [],
   "source": [
    "%matplotlib inline\n",
    "from IPython.core.interactiveshell import InteractiveShell\n",
    "InteractiveShell.ast_node_interactivity = \"all\"\n",
    "import ast\n",
    "import os\n",
    "import datetime as dt\n",
    "from tqdm import tqdm\n",
    "import pandas as pd\n",
    "import numpy as np\n",
    "import scipy.stats as st"
   ]
  },
  {
   "cell_type": "code",
   "execution_count": 3,
   "metadata": {},
   "outputs": [],
   "source": [
    "# def f2cat(filename: str) -> str:\n",
    "#     return filename.split('.')[0]\n",
    "\n",
    "# class Simplified():\n",
    "#     def __init__(self, input_path='./input/data'):\n",
    "#         self.input_path = input_path\n",
    "\n",
    "#     def list_all_categories(self):\n",
    "#         files = os.listdir(os.path.join(self.input_path, 'train_simplified'))\n",
    "#         return sorted([f2cat(f) for f in files], key=str.lower)\n",
    "\n",
    "#     def read_training_csv(self, category, usecols=None, drawing_transform=False):\n",
    "#         df = pd.read_csv(os.path.join(self.input_path, 'train_simplified', category + '.csv'),\n",
    "#                          parse_dates=['timestamp'], usecols=usecols)\n",
    "#         if drawing_transform:\n",
    "#             df['drawing'] = df['drawing'].apply(ast.literal_eval)\n",
    "#         return df"
   ]
  },
  {
   "cell_type": "code",
   "execution_count": 5,
   "metadata": {},
   "outputs": [
    {
     "name": "stdout",
     "output_type": "stream",
     "text": [
      "-2.7477813854449926 2.17009037758456\n"
     ]
    }
   ],
   "source": [
    "# start = dt.datetime.now()\n",
    "# s = Simplified('./input')\n",
    "\n",
    "# categories = s.list_all_categories()\n",
    "# print(len(categories))\n",
    "\n",
    "# noise_reduction paramteres in probability\n",
    "lower_bound = st.norm.ppf(0.003) # (0.3%)\n",
    "upper_bound = st.norm.ppf(1-0.015) #(98.5%)\n",
    "print(lower_bound, upper_bound)"
   ]
  },
  {
   "cell_type": "code",
   "execution_count": 9,
   "metadata": {},
   "outputs": [
    {
     "name": "stderr",
     "output_type": "stream",
     "text": [
      "\n",
      "\n",
      "  0%|          | 0/100 [00:00<?, ?it/s]\u001b[A\u001b[A\n",
      "\n",
      "  1%|          | 1/100 [02:31<4:09:12, 151.03s/it]\u001b[A\u001b[A"
     ]
    },
    {
     "name": "stdout",
     "output_type": "stream",
     "text": [
      "file train_k0.csv.gz reduced by 17714 rows\n"
     ]
    },
    {
     "name": "stderr",
     "output_type": "stream",
     "text": [
      "\n",
      "\n",
      "  2%|▏         | 2/100 [04:32<3:52:13, 142.18s/it]\u001b[A\u001b[A"
     ]
    },
    {
     "name": "stdout",
     "output_type": "stream",
     "text": [
      "file train_k1.csv.gz reduced by 13887 rows\n"
     ]
    },
    {
     "name": "stderr",
     "output_type": "stream",
     "text": [
      "\n",
      "\n",
      "  3%|▎         | 3/100 [06:31<3:38:35, 135.21s/it]\u001b[A\u001b[A"
     ]
    },
    {
     "name": "stdout",
     "output_type": "stream",
     "text": [
      "file train_k2.csv.gz reduced by 14032 rows\n"
     ]
    },
    {
     "name": "stderr",
     "output_type": "stream",
     "text": [
      "\n",
      "\n",
      "  4%|▍         | 4/100 [08:31<3:29:01, 130.64s/it]\u001b[A\u001b[A"
     ]
    },
    {
     "name": "stdout",
     "output_type": "stream",
     "text": [
      "file train_k3.csv.gz reduced by 13957 rows\n"
     ]
    },
    {
     "name": "stderr",
     "output_type": "stream",
     "text": [
      "\n",
      "\n",
      "  5%|▌         | 5/100 [10:31<3:21:44, 127.42s/it]\u001b[A\u001b[A"
     ]
    },
    {
     "name": "stdout",
     "output_type": "stream",
     "text": [
      "file train_k4.csv.gz reduced by 13883 rows\n"
     ]
    },
    {
     "name": "stderr",
     "output_type": "stream",
     "text": [
      "\n",
      "\n",
      "  6%|▌         | 6/100 [12:29<3:15:26, 124.75s/it]\u001b[A\u001b[A"
     ]
    },
    {
     "name": "stdout",
     "output_type": "stream",
     "text": [
      "file train_k5.csv.gz reduced by 14040 rows\n"
     ]
    },
    {
     "name": "stderr",
     "output_type": "stream",
     "text": [
      "\n",
      "\n",
      "  7%|▋         | 7/100 [14:31<3:11:55, 123.83s/it]\u001b[A\u001b[A"
     ]
    },
    {
     "name": "stdout",
     "output_type": "stream",
     "text": [
      "file train_k6.csv.gz reduced by 14124 rows\n"
     ]
    },
    {
     "name": "stderr",
     "output_type": "stream",
     "text": [
      "\n",
      "\n",
      "  8%|▊         | 8/100 [16:30<3:07:30, 122.29s/it]\u001b[A\u001b[A"
     ]
    },
    {
     "name": "stdout",
     "output_type": "stream",
     "text": [
      "file train_k7.csv.gz reduced by 13913 rows\n"
     ]
    },
    {
     "name": "stderr",
     "output_type": "stream",
     "text": [
      "\n",
      "\n",
      "  9%|▉         | 9/100 [18:31<3:04:57, 121.95s/it]\u001b[A\u001b[A"
     ]
    },
    {
     "name": "stdout",
     "output_type": "stream",
     "text": [
      "file train_k8.csv.gz reduced by 13867 rows\n"
     ]
    },
    {
     "name": "stderr",
     "output_type": "stream",
     "text": [
      "\n",
      "\n",
      " 10%|█         | 10/100 [20:31<3:02:03, 121.38s/it]\u001b[A\u001b[A"
     ]
    },
    {
     "name": "stdout",
     "output_type": "stream",
     "text": [
      "file train_k9.csv.gz reduced by 13705 rows\n"
     ]
    },
    {
     "name": "stderr",
     "output_type": "stream",
     "text": [
      "\n",
      "\n",
      " 11%|█         | 11/100 [22:31<2:59:32, 121.04s/it]\u001b[A\u001b[A"
     ]
    },
    {
     "name": "stdout",
     "output_type": "stream",
     "text": [
      "file train_k10.csv.gz reduced by 13840 rows\n"
     ]
    },
    {
     "name": "stderr",
     "output_type": "stream",
     "text": [
      "\n",
      "\n",
      " 12%|█▏        | 12/100 [24:32<2:57:31, 121.04s/it]\u001b[A\u001b[A"
     ]
    },
    {
     "name": "stdout",
     "output_type": "stream",
     "text": [
      "file train_k11.csv.gz reduced by 13915 rows\n"
     ]
    },
    {
     "name": "stderr",
     "output_type": "stream",
     "text": [
      "\n",
      "\n",
      " 13%|█▎        | 13/100 [26:32<2:54:45, 120.52s/it]\u001b[A\u001b[A"
     ]
    },
    {
     "name": "stdout",
     "output_type": "stream",
     "text": [
      "file train_k12.csv.gz reduced by 13927 rows\n"
     ]
    },
    {
     "name": "stderr",
     "output_type": "stream",
     "text": [
      "\n",
      "\n",
      " 14%|█▍        | 14/100 [28:31<2:52:14, 120.17s/it]\u001b[A\u001b[A"
     ]
    },
    {
     "name": "stdout",
     "output_type": "stream",
     "text": [
      "file train_k13.csv.gz reduced by 13941 rows\n"
     ]
    },
    {
     "name": "stderr",
     "output_type": "stream",
     "text": [
      "\n",
      "\n",
      " 15%|█▌        | 15/100 [30:32<2:50:49, 120.58s/it]\u001b[A\u001b[A"
     ]
    },
    {
     "name": "stdout",
     "output_type": "stream",
     "text": [
      "file train_k14.csv.gz reduced by 14164 rows\n"
     ]
    },
    {
     "name": "stderr",
     "output_type": "stream",
     "text": [
      "\n",
      "\n",
      " 16%|█▌        | 16/100 [32:33<2:48:44, 120.53s/it]\u001b[A\u001b[A"
     ]
    },
    {
     "name": "stdout",
     "output_type": "stream",
     "text": [
      "file train_k15.csv.gz reduced by 13893 rows\n"
     ]
    },
    {
     "name": "stderr",
     "output_type": "stream",
     "text": [
      "\n",
      "\n",
      " 17%|█▋        | 17/100 [34:35<2:47:16, 120.92s/it]\u001b[A\u001b[A"
     ]
    },
    {
     "name": "stdout",
     "output_type": "stream",
     "text": [
      "file train_k16.csv.gz reduced by 13903 rows\n"
     ]
    },
    {
     "name": "stderr",
     "output_type": "stream",
     "text": [
      "\n",
      "\n",
      " 18%|█▊        | 18/100 [36:34<2:44:34, 120.42s/it]\u001b[A\u001b[A"
     ]
    },
    {
     "name": "stdout",
     "output_type": "stream",
     "text": [
      "file train_k17.csv.gz reduced by 14027 rows\n"
     ]
    },
    {
     "name": "stderr",
     "output_type": "stream",
     "text": [
      "\n",
      "\n",
      " 19%|█▉        | 19/100 [38:34<2:42:14, 120.17s/it]\u001b[A\u001b[A"
     ]
    },
    {
     "name": "stdout",
     "output_type": "stream",
     "text": [
      "file train_k18.csv.gz reduced by 14043 rows\n"
     ]
    },
    {
     "name": "stderr",
     "output_type": "stream",
     "text": [
      "\n",
      "\n",
      " 20%|██        | 20/100 [40:34<2:40:29, 120.37s/it]\u001b[A\u001b[A"
     ]
    },
    {
     "name": "stdout",
     "output_type": "stream",
     "text": [
      "file train_k19.csv.gz reduced by 13924 rows\n"
     ]
    },
    {
     "name": "stderr",
     "output_type": "stream",
     "text": [
      "\n",
      "\n",
      " 21%|██        | 21/100 [42:34<2:38:03, 120.05s/it]\u001b[A\u001b[A"
     ]
    },
    {
     "name": "stdout",
     "output_type": "stream",
     "text": [
      "file train_k20.csv.gz reduced by 13925 rows\n"
     ]
    },
    {
     "name": "stderr",
     "output_type": "stream",
     "text": [
      "\n",
      "\n",
      " 22%|██▏       | 22/100 [44:35<2:36:27, 120.35s/it]\u001b[A\u001b[A"
     ]
    },
    {
     "name": "stdout",
     "output_type": "stream",
     "text": [
      "file train_k21.csv.gz reduced by 13860 rows\n"
     ]
    },
    {
     "name": "stderr",
     "output_type": "stream",
     "text": [
      "\n",
      "\n",
      " 23%|██▎       | 23/100 [46:35<2:34:13, 120.18s/it]\u001b[A\u001b[A"
     ]
    },
    {
     "name": "stdout",
     "output_type": "stream",
     "text": [
      "file train_k22.csv.gz reduced by 14114 rows\n"
     ]
    },
    {
     "name": "stderr",
     "output_type": "stream",
     "text": [
      "\n",
      "\n",
      " 24%|██▍       | 24/100 [48:34<2:31:48, 119.85s/it]\u001b[A\u001b[A"
     ]
    },
    {
     "name": "stdout",
     "output_type": "stream",
     "text": [
      "file train_k23.csv.gz reduced by 13833 rows\n"
     ]
    },
    {
     "name": "stderr",
     "output_type": "stream",
     "text": [
      "\n",
      "\n",
      " 25%|██▌       | 25/100 [50:36<2:30:35, 120.48s/it]\u001b[A\u001b[A"
     ]
    },
    {
     "name": "stdout",
     "output_type": "stream",
     "text": [
      "file train_k24.csv.gz reduced by 13918 rows\n"
     ]
    },
    {
     "name": "stderr",
     "output_type": "stream",
     "text": [
      "\n",
      "\n",
      " 26%|██▌       | 26/100 [52:36<2:28:25, 120.35s/it]\u001b[A\u001b[A"
     ]
    },
    {
     "name": "stdout",
     "output_type": "stream",
     "text": [
      "file train_k25.csv.gz reduced by 14052 rows\n"
     ]
    },
    {
     "name": "stderr",
     "output_type": "stream",
     "text": [
      "\n",
      "\n",
      " 27%|██▋       | 27/100 [54:37<2:26:52, 120.72s/it]\u001b[A\u001b[A"
     ]
    },
    {
     "name": "stdout",
     "output_type": "stream",
     "text": [
      "file train_k26.csv.gz reduced by 13890 rows\n"
     ]
    },
    {
     "name": "stderr",
     "output_type": "stream",
     "text": [
      "\n",
      "\n",
      " 28%|██▊       | 28/100 [56:38<2:24:46, 120.65s/it]\u001b[A\u001b[A"
     ]
    },
    {
     "name": "stdout",
     "output_type": "stream",
     "text": [
      "file train_k27.csv.gz reduced by 13959 rows\n"
     ]
    },
    {
     "name": "stderr",
     "output_type": "stream",
     "text": [
      "\n",
      "\n",
      " 29%|██▉       | 29/100 [58:37<2:22:19, 120.28s/it]\u001b[A\u001b[A"
     ]
    },
    {
     "name": "stdout",
     "output_type": "stream",
     "text": [
      "file train_k28.csv.gz reduced by 13960 rows\n"
     ]
    },
    {
     "name": "stderr",
     "output_type": "stream",
     "text": [
      "\n",
      "\n",
      " 30%|███       | 30/100 [1:00:39<2:20:57, 120.82s/it]\u001b[A\u001b[A"
     ]
    },
    {
     "name": "stdout",
     "output_type": "stream",
     "text": [
      "file train_k29.csv.gz reduced by 14224 rows\n"
     ]
    },
    {
     "name": "stderr",
     "output_type": "stream",
     "text": [
      "\n",
      "\n",
      " 31%|███       | 31/100 [1:02:39<2:18:42, 120.61s/it]\u001b[A\u001b[A"
     ]
    },
    {
     "name": "stdout",
     "output_type": "stream",
     "text": [
      "file train_k30.csv.gz reduced by 13983 rows\n"
     ]
    },
    {
     "name": "stderr",
     "output_type": "stream",
     "text": [
      "\n",
      "\n",
      " 32%|███▏      | 32/100 [1:04:39<2:16:32, 120.48s/it]\u001b[A\u001b[A"
     ]
    },
    {
     "name": "stdout",
     "output_type": "stream",
     "text": [
      "file train_k31.csv.gz reduced by 13985 rows\n"
     ]
    },
    {
     "name": "stderr",
     "output_type": "stream",
     "text": [
      "\n",
      "\n",
      " 33%|███▎      | 33/100 [1:06:41<2:14:54, 120.81s/it]\u001b[A\u001b[A"
     ]
    },
    {
     "name": "stdout",
     "output_type": "stream",
     "text": [
      "file train_k32.csv.gz reduced by 13915 rows\n"
     ]
    },
    {
     "name": "stderr",
     "output_type": "stream",
     "text": [
      "\n",
      "\n",
      " 34%|███▍      | 34/100 [1:08:40<2:12:21, 120.32s/it]\u001b[A\u001b[A"
     ]
    },
    {
     "name": "stdout",
     "output_type": "stream",
     "text": [
      "file train_k33.csv.gz reduced by 14031 rows\n"
     ]
    },
    {
     "name": "stderr",
     "output_type": "stream",
     "text": [
      "\n",
      "\n",
      " 35%|███▌      | 35/100 [1:10:40<2:10:04, 120.07s/it]\u001b[A\u001b[A"
     ]
    },
    {
     "name": "stdout",
     "output_type": "stream",
     "text": [
      "file train_k34.csv.gz reduced by 13891 rows\n"
     ]
    },
    {
     "name": "stderr",
     "output_type": "stream",
     "text": [
      "\n",
      "\n",
      " 36%|███▌      | 36/100 [1:12:37<2:07:20, 119.38s/it]\u001b[A\u001b[A"
     ]
    },
    {
     "name": "stdout",
     "output_type": "stream",
     "text": [
      "file train_k35.csv.gz reduced by 13954 rows\n"
     ]
    },
    {
     "name": "stderr",
     "output_type": "stream",
     "text": [
      "\n",
      "\n",
      " 37%|███▋      | 37/100 [1:14:35<2:04:48, 118.86s/it]\u001b[A\u001b[A"
     ]
    },
    {
     "name": "stdout",
     "output_type": "stream",
     "text": [
      "file train_k36.csv.gz reduced by 14236 rows\n"
     ]
    },
    {
     "name": "stderr",
     "output_type": "stream",
     "text": [
      "\n",
      "\n",
      " 38%|███▊      | 38/100 [1:16:34<2:02:52, 118.92s/it]\u001b[A\u001b[A"
     ]
    },
    {
     "name": "stdout",
     "output_type": "stream",
     "text": [
      "file train_k37.csv.gz reduced by 13790 rows\n"
     ]
    },
    {
     "name": "stderr",
     "output_type": "stream",
     "text": [
      "\n",
      "\n",
      " 39%|███▉      | 39/100 [1:18:32<2:00:27, 118.48s/it]\u001b[A\u001b[A"
     ]
    },
    {
     "name": "stdout",
     "output_type": "stream",
     "text": [
      "file train_k38.csv.gz reduced by 14027 rows\n"
     ]
    },
    {
     "name": "stderr",
     "output_type": "stream",
     "text": [
      "\n",
      "\n",
      " 40%|████      | 40/100 [1:20:31<1:58:52, 118.87s/it]\u001b[A\u001b[A"
     ]
    },
    {
     "name": "stdout",
     "output_type": "stream",
     "text": [
      "file train_k39.csv.gz reduced by 13983 rows\n"
     ]
    },
    {
     "name": "stderr",
     "output_type": "stream",
     "text": [
      "\n",
      "\n",
      " 41%|████      | 41/100 [1:22:28<1:56:21, 118.33s/it]\u001b[A\u001b[A"
     ]
    },
    {
     "name": "stdout",
     "output_type": "stream",
     "text": [
      "file train_k40.csv.gz reduced by 13994 rows\n"
     ]
    },
    {
     "name": "stderr",
     "output_type": "stream",
     "text": [
      "\n",
      "\n",
      " 42%|████▏     | 42/100 [1:24:26<1:54:10, 118.11s/it]\u001b[A\u001b[A"
     ]
    },
    {
     "name": "stdout",
     "output_type": "stream",
     "text": [
      "file train_k41.csv.gz reduced by 13842 rows\n"
     ]
    },
    {
     "name": "stderr",
     "output_type": "stream",
     "text": [
      "\n",
      "\n",
      " 43%|████▎     | 43/100 [1:26:26<1:52:37, 118.56s/it]\u001b[A\u001b[A"
     ]
    },
    {
     "name": "stdout",
     "output_type": "stream",
     "text": [
      "file train_k42.csv.gz reduced by 13985 rows\n"
     ]
    },
    {
     "name": "stderr",
     "output_type": "stream",
     "text": [
      "\n",
      "\n",
      " 44%|████▍     | 44/100 [1:28:23<1:50:24, 118.30s/it]\u001b[A\u001b[A"
     ]
    },
    {
     "name": "stdout",
     "output_type": "stream",
     "text": [
      "file train_k43.csv.gz reduced by 13992 rows\n"
     ]
    },
    {
     "name": "stderr",
     "output_type": "stream",
     "text": [
      "\n",
      "\n",
      " 45%|████▌     | 45/100 [1:30:22<1:48:36, 118.49s/it]\u001b[A\u001b[A"
     ]
    },
    {
     "name": "stdout",
     "output_type": "stream",
     "text": [
      "file train_k44.csv.gz reduced by 13987 rows\n"
     ]
    },
    {
     "name": "stderr",
     "output_type": "stream",
     "text": [
      "\n",
      "\n",
      " 46%|████▌     | 46/100 [1:32:23<1:47:09, 119.06s/it]\u001b[A\u001b[A"
     ]
    },
    {
     "name": "stdout",
     "output_type": "stream",
     "text": [
      "file train_k45.csv.gz reduced by 13878 rows\n"
     ]
    },
    {
     "name": "stderr",
     "output_type": "stream",
     "text": [
      "\n",
      "\n",
      " 47%|████▋     | 47/100 [1:34:22<1:45:12, 119.11s/it]\u001b[A\u001b[A"
     ]
    },
    {
     "name": "stdout",
     "output_type": "stream",
     "text": [
      "file train_k46.csv.gz reduced by 13959 rows\n"
     ]
    },
    {
     "name": "stderr",
     "output_type": "stream",
     "text": [
      "\n",
      "\n",
      " 48%|████▊     | 48/100 [1:36:23<1:43:43, 119.68s/it]\u001b[A\u001b[A"
     ]
    },
    {
     "name": "stdout",
     "output_type": "stream",
     "text": [
      "file train_k47.csv.gz reduced by 13813 rows\n"
     ]
    },
    {
     "name": "stderr",
     "output_type": "stream",
     "text": [
      "\n",
      "\n",
      " 49%|████▉     | 49/100 [1:38:22<1:41:31, 119.45s/it]\u001b[A\u001b[A"
     ]
    },
    {
     "name": "stdout",
     "output_type": "stream",
     "text": [
      "file train_k48.csv.gz reduced by 14035 rows\n"
     ]
    },
    {
     "name": "stderr",
     "output_type": "stream",
     "text": [
      "\n",
      "\n",
      " 50%|█████     | 50/100 [1:40:21<1:39:35, 119.51s/it]\u001b[A\u001b[A"
     ]
    },
    {
     "name": "stdout",
     "output_type": "stream",
     "text": [
      "file train_k49.csv.gz reduced by 14070 rows\n"
     ]
    },
    {
     "name": "stderr",
     "output_type": "stream",
     "text": [
      "\n",
      "\n",
      " 51%|█████     | 51/100 [1:42:24<1:38:13, 120.28s/it]\u001b[A\u001b[A"
     ]
    },
    {
     "name": "stdout",
     "output_type": "stream",
     "text": [
      "file train_k50.csv.gz reduced by 14044 rows\n"
     ]
    },
    {
     "name": "stderr",
     "output_type": "stream",
     "text": [
      "\n",
      "\n",
      " 52%|█████▏    | 52/100 [1:44:22<1:35:53, 119.86s/it]\u001b[A\u001b[A"
     ]
    },
    {
     "name": "stdout",
     "output_type": "stream",
     "text": [
      "file train_k51.csv.gz reduced by 13881 rows\n"
     ]
    },
    {
     "name": "stderr",
     "output_type": "stream",
     "text": [
      "\n",
      "\n",
      " 53%|█████▎    | 53/100 [1:46:25<1:34:25, 120.55s/it]\u001b[A\u001b[A"
     ]
    },
    {
     "name": "stdout",
     "output_type": "stream",
     "text": [
      "file train_k52.csv.gz reduced by 13886 rows\n"
     ]
    },
    {
     "name": "stderr",
     "output_type": "stream",
     "text": [
      "\n",
      "\n",
      " 54%|█████▍    | 54/100 [1:48:25<1:32:18, 120.40s/it]\u001b[A\u001b[A"
     ]
    },
    {
     "name": "stdout",
     "output_type": "stream",
     "text": [
      "file train_k53.csv.gz reduced by 13880 rows\n"
     ]
    },
    {
     "name": "stderr",
     "output_type": "stream",
     "text": [
      "\n",
      "\n",
      " 55%|█████▌    | 55/100 [1:50:24<1:30:04, 120.11s/it]\u001b[A\u001b[A"
     ]
    },
    {
     "name": "stdout",
     "output_type": "stream",
     "text": [
      "file train_k54.csv.gz reduced by 13898 rows\n"
     ]
    },
    {
     "name": "stderr",
     "output_type": "stream",
     "text": [
      "\n",
      "\n",
      " 56%|█████▌    | 56/100 [1:52:25<1:28:14, 120.34s/it]\u001b[A\u001b[A"
     ]
    },
    {
     "name": "stdout",
     "output_type": "stream",
     "text": [
      "file train_k55.csv.gz reduced by 14084 rows\n"
     ]
    },
    {
     "name": "stderr",
     "output_type": "stream",
     "text": [
      "\n",
      "\n",
      " 57%|█████▋    | 57/100 [1:54:23<1:25:39, 119.53s/it]\u001b[A\u001b[A"
     ]
    },
    {
     "name": "stdout",
     "output_type": "stream",
     "text": [
      "file train_k56.csv.gz reduced by 13901 rows\n"
     ]
    },
    {
     "name": "stderr",
     "output_type": "stream",
     "text": [
      "\n",
      "\n",
      " 58%|█████▊    | 58/100 [1:56:20<1:23:19, 119.03s/it]\u001b[A\u001b[A"
     ]
    },
    {
     "name": "stdout",
     "output_type": "stream",
     "text": [
      "file train_k57.csv.gz reduced by 13988 rows\n"
     ]
    },
    {
     "name": "stderr",
     "output_type": "stream",
     "text": [
      "\n",
      "\n",
      " 59%|█████▉    | 59/100 [1:58:20<1:21:20, 119.05s/it]\u001b[A\u001b[A"
     ]
    },
    {
     "name": "stdout",
     "output_type": "stream",
     "text": [
      "file train_k58.csv.gz reduced by 13859 rows\n"
     ]
    },
    {
     "name": "stderr",
     "output_type": "stream",
     "text": [
      "\n",
      "\n",
      " 60%|██████    | 60/100 [2:00:18<1:19:18, 118.95s/it]\u001b[A\u001b[A"
     ]
    },
    {
     "name": "stdout",
     "output_type": "stream",
     "text": [
      "file train_k59.csv.gz reduced by 13822 rows\n"
     ]
    },
    {
     "name": "stderr",
     "output_type": "stream",
     "text": [
      "\n",
      "\n",
      " 61%|██████    | 61/100 [2:02:19<1:17:40, 119.50s/it]\u001b[A\u001b[A"
     ]
    },
    {
     "name": "stdout",
     "output_type": "stream",
     "text": [
      "file train_k60.csv.gz reduced by 13866 rows\n"
     ]
    },
    {
     "name": "stderr",
     "output_type": "stream",
     "text": [
      "\n",
      "\n",
      " 62%|██████▏   | 62/100 [2:04:18<1:15:30, 119.22s/it]\u001b[A\u001b[A"
     ]
    },
    {
     "name": "stdout",
     "output_type": "stream",
     "text": [
      "file train_k61.csv.gz reduced by 13751 rows\n"
     ]
    },
    {
     "name": "stderr",
     "output_type": "stream",
     "text": [
      "\n",
      "\n",
      " 63%|██████▎   | 63/100 [2:06:18<1:13:41, 119.50s/it]\u001b[A\u001b[A"
     ]
    },
    {
     "name": "stdout",
     "output_type": "stream",
     "text": [
      "file train_k62.csv.gz reduced by 14030 rows\n"
     ]
    },
    {
     "name": "stderr",
     "output_type": "stream",
     "text": [
      "\n",
      "\n",
      " 64%|██████▍   | 64/100 [2:08:19<1:11:59, 119.98s/it]\u001b[A\u001b[A"
     ]
    },
    {
     "name": "stdout",
     "output_type": "stream",
     "text": [
      "file train_k63.csv.gz reduced by 13961 rows\n"
     ]
    },
    {
     "name": "stderr",
     "output_type": "stream",
     "text": [
      "\n",
      "\n",
      " 65%|██████▌   | 65/100 [2:10:19<1:10:02, 120.08s/it]\u001b[A\u001b[A"
     ]
    },
    {
     "name": "stdout",
     "output_type": "stream",
     "text": [
      "file train_k64.csv.gz reduced by 13941 rows\n"
     ]
    },
    {
     "name": "stderr",
     "output_type": "stream",
     "text": [
      "\n",
      "\n",
      " 66%|██████▌   | 66/100 [2:12:21<1:08:16, 120.49s/it]\u001b[A\u001b[A"
     ]
    },
    {
     "name": "stdout",
     "output_type": "stream",
     "text": [
      "file train_k65.csv.gz reduced by 13779 rows\n"
     ]
    },
    {
     "name": "stderr",
     "output_type": "stream",
     "text": [
      "\n",
      "\n",
      " 67%|██████▋   | 67/100 [2:14:20<1:06:03, 120.09s/it]\u001b[A\u001b[A"
     ]
    },
    {
     "name": "stdout",
     "output_type": "stream",
     "text": [
      "file train_k66.csv.gz reduced by 13862 rows\n"
     ]
    },
    {
     "name": "stderr",
     "output_type": "stream",
     "text": [
      "\n",
      "\n",
      " 68%|██████▊   | 68/100 [2:16:20<1:04:03, 120.12s/it]\u001b[A\u001b[A"
     ]
    },
    {
     "name": "stdout",
     "output_type": "stream",
     "text": [
      "file train_k67.csv.gz reduced by 13879 rows\n"
     ]
    },
    {
     "name": "stderr",
     "output_type": "stream",
     "text": [
      "\n",
      "\n",
      " 69%|██████▉   | 69/100 [2:18:21<1:02:13, 120.43s/it]\u001b[A\u001b[A"
     ]
    },
    {
     "name": "stdout",
     "output_type": "stream",
     "text": [
      "file train_k68.csv.gz reduced by 13938 rows\n"
     ]
    },
    {
     "name": "stderr",
     "output_type": "stream",
     "text": [
      "\n",
      "\n",
      " 70%|███████   | 70/100 [2:20:21<1:00:09, 120.33s/it]\u001b[A\u001b[A"
     ]
    },
    {
     "name": "stdout",
     "output_type": "stream",
     "text": [
      "file train_k69.csv.gz reduced by 13853 rows\n"
     ]
    },
    {
     "name": "stderr",
     "output_type": "stream",
     "text": [
      "\n",
      "\n",
      " 71%|███████   | 71/100 [2:22:23<58:21, 120.73s/it]  \u001b[A\u001b[A"
     ]
    },
    {
     "name": "stdout",
     "output_type": "stream",
     "text": [
      "file train_k70.csv.gz reduced by 13834 rows\n"
     ]
    },
    {
     "name": "stderr",
     "output_type": "stream",
     "text": [
      "\n",
      "\n",
      " 72%|███████▏  | 72/100 [2:24:23<56:14, 120.52s/it]\u001b[A\u001b[A"
     ]
    },
    {
     "name": "stdout",
     "output_type": "stream",
     "text": [
      "file train_k71.csv.gz reduced by 14009 rows\n"
     ]
    },
    {
     "name": "stderr",
     "output_type": "stream",
     "text": [
      "\n",
      "\n",
      " 73%|███████▎  | 73/100 [2:26:24<54:18, 120.67s/it]\u001b[A\u001b[A"
     ]
    },
    {
     "name": "stdout",
     "output_type": "stream",
     "text": [
      "file train_k72.csv.gz reduced by 13885 rows\n"
     ]
    },
    {
     "name": "stderr",
     "output_type": "stream",
     "text": [
      "\n",
      "\n",
      " 74%|███████▍  | 74/100 [2:28:26<52:26, 121.02s/it]\u001b[A\u001b[A"
     ]
    },
    {
     "name": "stdout",
     "output_type": "stream",
     "text": [
      "file train_k73.csv.gz reduced by 13696 rows\n"
     ]
    },
    {
     "name": "stderr",
     "output_type": "stream",
     "text": [
      "\n",
      "\n",
      " 75%|███████▌  | 75/100 [2:30:27<50:25, 121.04s/it]\u001b[A\u001b[A"
     ]
    },
    {
     "name": "stdout",
     "output_type": "stream",
     "text": [
      "file train_k74.csv.gz reduced by 14020 rows\n"
     ]
    },
    {
     "name": "stderr",
     "output_type": "stream",
     "text": [
      "\n",
      "\n",
      " 76%|███████▌  | 76/100 [2:32:27<48:21, 120.91s/it]\u001b[A\u001b[A"
     ]
    },
    {
     "name": "stdout",
     "output_type": "stream",
     "text": [
      "file train_k75.csv.gz reduced by 14080 rows\n"
     ]
    },
    {
     "name": "stderr",
     "output_type": "stream",
     "text": [
      "\n",
      "\n",
      " 77%|███████▋  | 77/100 [2:34:30<46:32, 121.40s/it]\u001b[A\u001b[A"
     ]
    },
    {
     "name": "stdout",
     "output_type": "stream",
     "text": [
      "file train_k76.csv.gz reduced by 14028 rows\n"
     ]
    },
    {
     "name": "stderr",
     "output_type": "stream",
     "text": [
      "\n",
      "\n",
      " 78%|███████▊  | 78/100 [2:36:32<44:32, 121.50s/it]\u001b[A\u001b[A"
     ]
    },
    {
     "name": "stdout",
     "output_type": "stream",
     "text": [
      "file train_k77.csv.gz reduced by 14106 rows\n"
     ]
    },
    {
     "name": "stderr",
     "output_type": "stream",
     "text": [
      "\n",
      "\n",
      " 79%|███████▉  | 79/100 [2:38:33<42:30, 121.47s/it]\u001b[A\u001b[A"
     ]
    },
    {
     "name": "stdout",
     "output_type": "stream",
     "text": [
      "file train_k78.csv.gz reduced by 13825 rows\n"
     ]
    },
    {
     "name": "stderr",
     "output_type": "stream",
     "text": [
      "\n",
      "\n",
      " 80%|████████  | 80/100 [2:40:34<40:27, 121.39s/it]\u001b[A\u001b[A"
     ]
    },
    {
     "name": "stdout",
     "output_type": "stream",
     "text": [
      "file train_k79.csv.gz reduced by 13858 rows\n"
     ]
    },
    {
     "name": "stderr",
     "output_type": "stream",
     "text": [
      "\n",
      "\n",
      " 81%|████████  | 81/100 [2:42:35<38:24, 121.28s/it]\u001b[A\u001b[A"
     ]
    },
    {
     "name": "stdout",
     "output_type": "stream",
     "text": [
      "file train_k80.csv.gz reduced by 14114 rows\n"
     ]
    },
    {
     "name": "stderr",
     "output_type": "stream",
     "text": [
      "\n",
      "\n",
      " 82%|████████▏ | 82/100 [2:44:37<36:26, 121.47s/it]\u001b[A\u001b[A"
     ]
    },
    {
     "name": "stdout",
     "output_type": "stream",
     "text": [
      "file train_k81.csv.gz reduced by 13866 rows\n"
     ]
    },
    {
     "name": "stderr",
     "output_type": "stream",
     "text": [
      "\n",
      "\n",
      " 83%|████████▎ | 83/100 [2:46:37<34:16, 120.99s/it]\u001b[A\u001b[A"
     ]
    },
    {
     "name": "stdout",
     "output_type": "stream",
     "text": [
      "file train_k82.csv.gz reduced by 13882 rows\n"
     ]
    },
    {
     "name": "stderr",
     "output_type": "stream",
     "text": [
      "\n",
      "\n",
      " 84%|████████▍ | 84/100 [2:48:39<32:19, 121.24s/it]\u001b[A\u001b[A"
     ]
    },
    {
     "name": "stdout",
     "output_type": "stream",
     "text": [
      "file train_k83.csv.gz reduced by 13896 rows\n"
     ]
    },
    {
     "name": "stderr",
     "output_type": "stream",
     "text": [
      "\n",
      "\n",
      " 85%|████████▌ | 85/100 [2:50:40<30:16, 121.10s/it]\u001b[A\u001b[A"
     ]
    },
    {
     "name": "stdout",
     "output_type": "stream",
     "text": [
      "file train_k84.csv.gz reduced by 13903 rows\n"
     ]
    },
    {
     "name": "stderr",
     "output_type": "stream",
     "text": [
      "\n",
      "\n",
      " 86%|████████▌ | 86/100 [2:52:41<28:15, 121.08s/it]\u001b[A\u001b[A"
     ]
    },
    {
     "name": "stdout",
     "output_type": "stream",
     "text": [
      "file train_k85.csv.gz reduced by 14046 rows\n"
     ]
    },
    {
     "name": "stderr",
     "output_type": "stream",
     "text": [
      "\n",
      "\n",
      " 87%|████████▋ | 87/100 [2:54:43<26:17, 121.36s/it]\u001b[A\u001b[A"
     ]
    },
    {
     "name": "stdout",
     "output_type": "stream",
     "text": [
      "file train_k86.csv.gz reduced by 13976 rows\n"
     ]
    },
    {
     "name": "stderr",
     "output_type": "stream",
     "text": [
      "\n",
      "\n",
      " 88%|████████▊ | 88/100 [2:56:44<24:16, 121.35s/it]\u001b[A\u001b[A"
     ]
    },
    {
     "name": "stdout",
     "output_type": "stream",
     "text": [
      "file train_k87.csv.gz reduced by 13717 rows\n"
     ]
    },
    {
     "name": "stderr",
     "output_type": "stream",
     "text": [
      "\n",
      "\n",
      " 89%|████████▉ | 89/100 [2:58:47<22:19, 121.80s/it]\u001b[A\u001b[A"
     ]
    },
    {
     "name": "stdout",
     "output_type": "stream",
     "text": [
      "file train_k88.csv.gz reduced by 14169 rows\n"
     ]
    },
    {
     "name": "stderr",
     "output_type": "stream",
     "text": [
      "\n",
      "\n",
      " 90%|█████████ | 90/100 [3:00:47<20:11, 121.16s/it]\u001b[A\u001b[A"
     ]
    },
    {
     "name": "stdout",
     "output_type": "stream",
     "text": [
      "file train_k89.csv.gz reduced by 13847 rows\n"
     ]
    },
    {
     "name": "stderr",
     "output_type": "stream",
     "text": [
      "\n",
      "\n",
      " 91%|█████████ | 91/100 [3:02:48<18:11, 121.24s/it]\u001b[A\u001b[A"
     ]
    },
    {
     "name": "stdout",
     "output_type": "stream",
     "text": [
      "file train_k90.csv.gz reduced by 13957 rows\n"
     ]
    },
    {
     "name": "stderr",
     "output_type": "stream",
     "text": [
      "\n",
      "\n",
      " 92%|█████████▏| 92/100 [3:04:50<16:10, 121.32s/it]\u001b[A\u001b[A"
     ]
    },
    {
     "name": "stdout",
     "output_type": "stream",
     "text": [
      "file train_k91.csv.gz reduced by 13818 rows\n"
     ]
    },
    {
     "name": "stderr",
     "output_type": "stream",
     "text": [
      "\n",
      "\n",
      " 93%|█████████▎| 93/100 [3:06:51<14:08, 121.23s/it]\u001b[A\u001b[A"
     ]
    },
    {
     "name": "stdout",
     "output_type": "stream",
     "text": [
      "file train_k92.csv.gz reduced by 14081 rows\n"
     ]
    },
    {
     "name": "stderr",
     "output_type": "stream",
     "text": [
      "\n",
      "\n",
      " 94%|█████████▍| 94/100 [3:08:53<12:09, 121.51s/it]\u001b[A\u001b[A"
     ]
    },
    {
     "name": "stdout",
     "output_type": "stream",
     "text": [
      "file train_k93.csv.gz reduced by 13807 rows\n"
     ]
    },
    {
     "name": "stderr",
     "output_type": "stream",
     "text": [
      "\n",
      "\n",
      " 95%|█████████▌| 95/100 [3:10:54<10:07, 121.49s/it]\u001b[A\u001b[A"
     ]
    },
    {
     "name": "stdout",
     "output_type": "stream",
     "text": [
      "file train_k94.csv.gz reduced by 13960 rows\n"
     ]
    },
    {
     "name": "stderr",
     "output_type": "stream",
     "text": [
      "\n",
      "\n",
      " 96%|█████████▌| 96/100 [3:12:55<08:04, 121.22s/it]\u001b[A\u001b[A"
     ]
    },
    {
     "name": "stdout",
     "output_type": "stream",
     "text": [
      "file train_k95.csv.gz reduced by 13910 rows\n"
     ]
    },
    {
     "name": "stderr",
     "output_type": "stream",
     "text": [
      "\n",
      "\n",
      " 97%|█████████▋| 97/100 [3:14:56<06:03, 121.11s/it]\u001b[A\u001b[A"
     ]
    },
    {
     "name": "stdout",
     "output_type": "stream",
     "text": [
      "file train_k96.csv.gz reduced by 13861 rows\n"
     ]
    },
    {
     "name": "stderr",
     "output_type": "stream",
     "text": [
      "\n",
      "\n",
      " 98%|█████████▊| 98/100 [3:16:56<04:01, 120.83s/it]\u001b[A\u001b[A"
     ]
    },
    {
     "name": "stdout",
     "output_type": "stream",
     "text": [
      "file train_k97.csv.gz reduced by 14124 rows\n"
     ]
    },
    {
     "name": "stderr",
     "output_type": "stream",
     "text": [
      "\n",
      "\n",
      " 99%|█████████▉| 99/100 [3:18:56<02:00, 120.58s/it]\u001b[A\u001b[A"
     ]
    },
    {
     "name": "stdout",
     "output_type": "stream",
     "text": [
      "file train_k98.csv.gz reduced by 13765 rows\n"
     ]
    },
    {
     "name": "stderr",
     "output_type": "stream",
     "text": [
      "\n",
      "\n",
      "100%|██████████| 100/100 [3:20:58<00:00, 120.92s/it]\u001b[A\u001b[A\n",
      "\n",
      "\u001b[A\u001b[A"
     ]
    },
    {
     "name": "stdout",
     "output_type": "stream",
     "text": [
      "file train_k99.csv.gz reduced by 13945 rows\n"
     ]
    }
   ],
   "source": [
    "NCSVS = 100\n",
    "path = './shuffle_csvs_final/'\n",
    "output_path = './shuffle_completed/'\n",
    "for k in tqdm(range(NCSVS)):\n",
    "    file = 'train_k{}.csv.gz'.format(k)\n",
    "    outputFileName = os.path.join(output_path, 'train_k{}.csv'.format(k))\n",
    "    filename = os.path.join(path, file)\n",
    "    \n",
    "    if os.path.exists(filename):\n",
    "        df = pd.read_csv(filename)\n",
    "        row_1 =  df.shape[0]\n",
    "        df = df.loc[(df['std_entropy'] >= lower_bound) & (df['std_entropy'] <= upper_bound)]\n",
    "        row_2 = df.shape[0]\n",
    "        df.to_csv(outputFileName + '.gz', compression='gzip', index=False)\n",
    "        print(\"file \" + file + \" reduced by \" + str(row_1 - row_2) + \" rows\")\n",
    "        \n",
    "#print(df.shape)"
   ]
  },
  {
   "cell_type": "code",
   "execution_count": 10,
   "metadata": {},
   "outputs": [
    {
     "name": "stdout",
     "output_type": "stream",
     "text": [
      "  adding: shuffle_completed/ (stored 0%)\n",
      "  adding: shuffle_completed/train_k4.csv.gz (deflated 0%)\n",
      "  adding: shuffle_completed/train_k96.csv.gz (deflated 0%)\n",
      "  adding: shuffle_completed/train_k42.csv.gz (deflated 0%)\n",
      "  adding: shuffle_completed/train_k38.csv.gz (deflated 0%)\n",
      "  adding: shuffle_completed/train_k88.csv.gz (deflated 0%)\n",
      "  adding: shuffle_completed/train_k89.csv.gz (deflated 0%)\n",
      "  adding: shuffle_completed/train_k27.csv.gz (deflated 0%)\n",
      "  adding: shuffle_completed/train_k35.csv.gz (deflated 0%)\n",
      "  adding: shuffle_completed/train_k51.csv.gz (deflated 0%)\n",
      "  adding: shuffle_completed/train_k65.csv.gz (deflated 0%)\n",
      "  adding: shuffle_completed/train_k86.csv.gz (deflated 0%)\n",
      "  adding: shuffle_completed/train_k45.csv.gz (deflated 0%)\n",
      "  adding: shuffle_completed/train_k99.csv.gz (deflated 0%)\n",
      "  adding: shuffle_completed/train_k21.csv.gz (deflated 0%)\n",
      "  adding: shuffle_completed/train_k17.csv.gz (deflated 0%)\n",
      "  adding: shuffle_completed/train_k78.csv.gz (deflated 0%)\n",
      "  adding: shuffle_completed/train_k57.csv.gz (deflated 0%)\n",
      "  adding: shuffle_completed/.ipynb_checkpoints/ (stored 0%)\n",
      "  adding: shuffle_completed/train_k13.csv.gz (deflated 0%)\n",
      "  adding: shuffle_completed/train_k80.csv.gz (deflated 0%)\n",
      "  adding: shuffle_completed/train_k69.csv.gz (deflated 0%)\n",
      "  adding: shuffle_completed/train_k75.csv.gz (deflated 0%)\n",
      "  adding: shuffle_completed/train_k60.csv.gz (deflated 0%)\n",
      "  adding: shuffle_completed/train_k15.csv.gz (deflated 0%)\n",
      "  adding: shuffle_completed/train_k98.csv.gz (deflated 0%)\n",
      "  adding: shuffle_completed/train_k24.csv.gz (deflated 0%)\n",
      "  adding: shuffle_completed/train_k79.csv.gz (deflated 0%)\n",
      "  adding: shuffle_completed/train_k48.csv.gz (deflated 0%)\n",
      "  adding: shuffle_completed/train_k94.csv.gz (deflated 0%)\n",
      "  adding: shuffle_completed/train_k50.csv.gz (deflated 0%)\n",
      "  adding: shuffle_completed/train_k92.csv.gz (deflated 0%)\n",
      "  adding: shuffle_completed/train_k71.csv.gz (deflated 0%)\n",
      "  adding: shuffle_completed/train_k22.csv.gz (deflated 0%)\n",
      "  adding: shuffle_completed/train_k63.csv.gz (deflated 0%)\n",
      "  adding: shuffle_completed/train_k77.csv.gz (deflated 0%)\n",
      "  adding: shuffle_completed/train_k25.csv.gz (deflated 0%)\n",
      "  adding: shuffle_completed/train_k90.csv.gz (deflated 0%)\n",
      "  adding: shuffle_completed/train_k74.csv.gz (deflated 0%)\n",
      "  adding: shuffle_completed/train_k76.csv.gz (deflated 0%)\n",
      "  adding: shuffle_completed/train_k91.csv.gz (deflated 0%)\n",
      "  adding: shuffle_completed/train_k62.csv.gz (deflated 0%)\n",
      "  adding: shuffle_completed/train_k73.csv.gz (deflated 0%)\n",
      "  adding: shuffle_completed/train_k3.csv.gz (deflated 0%)\n",
      "  adding: shuffle_completed/train_k34.csv.gz (deflated 0%)\n",
      "  adding: shuffle_completed/train_k64.csv.gz (deflated 0%)\n",
      "  adding: shuffle_completed/train_k5.csv.gz (deflated 0%)\n",
      "  adding: shuffle_completed/train_k82.csv.gz (deflated 0%)\n",
      "  adding: shuffle_completed/train_k81.csv.gz (deflated 0%)\n",
      "  adding: shuffle_completed/train_k58.csv.gz (deflated 0%)\n",
      "  adding: shuffle_completed/train_k33.csv.gz (deflated 0%)\n",
      "  adding: shuffle_completed/train_k32.csv.gz (deflated 0%)\n",
      "  adding: shuffle_completed/train_k87.csv.gz (deflated 0%)\n",
      "  adding: shuffle_completed/train_k19.csv.gz (deflated 0%)\n",
      "  adding: shuffle_completed/train_k6.csv.gz (deflated 0%)\n",
      "  adding: shuffle_completed/train_k44.csv.gz (deflated 0%)\n",
      "  adding: shuffle_completed/train_k10.csv.gz (deflated 0%)\n",
      "  adding: shuffle_completed/train_k12.csv.gz (deflated 0%)\n",
      "  adding: shuffle_completed/train_k95.csv.gz (deflated 0%)\n",
      "  adding: shuffle_completed/train_k11.csv.gz (deflated 0%)\n",
      "  adding: shuffle_completed/train_k72.csv.gz (deflated 0%)\n",
      "  adding: shuffle_completed/train_k30.csv.gz (deflated 0%)\n",
      "  adding: shuffle_completed/train_k49.csv.gz (deflated 0%)\n",
      "  adding: shuffle_completed/train_k61.csv.gz (deflated 0%)\n",
      "  adding: shuffle_completed/train_k1.csv.gz (deflated 0%)\n",
      "  adding: shuffle_completed/train_k53.csv.gz (deflated 0%)\n",
      "  adding: shuffle_completed/train_k43.csv.gz (deflated 0%)\n",
      "  adding: shuffle_completed/train_k31.csv.gz (deflated 0%)\n",
      "  adding: shuffle_completed/train_k36.csv.gz (deflated 0%)\n",
      "  adding: shuffle_completed/train_k40.csv.gz (deflated 0%)\n",
      "  adding: shuffle_completed/train_k8.csv.gz (deflated 0%)\n",
      "  adding: shuffle_completed/train_k47.csv.gz (deflated 0%)\n",
      "  adding: shuffle_completed/train_k20.csv.gz (deflated 0%)\n",
      "  adding: shuffle_completed/train_k28.csv.gz (deflated 0%)\n",
      "  adding: shuffle_completed/train_k29.csv.gz (deflated 0%)\n",
      "  adding: shuffle_completed/train_k67.csv.gz (deflated 0%)\n",
      "  adding: shuffle_completed/train_k52.csv.gz (deflated 0%)\n",
      "  adding: shuffle_completed/train_k84.csv.gz (deflated 0%)\n",
      "  adding: shuffle_completed/train_k9.csv.gz (deflated 0%)\n",
      "  adding: shuffle_completed/train_k16.csv.gz (deflated 0%)\n",
      "  adding: shuffle_completed/train_k68.csv.gz (deflated 0%)\n",
      "  adding: shuffle_completed/train_k59.csv.gz (deflated 0%)\n",
      "  adding: shuffle_completed/train_k97.csv.gz (deflated 0%)\n",
      "  adding: shuffle_completed/train_k83.csv.gz (deflated 0%)\n",
      "  adding: shuffle_completed/train_k85.csv.gz (deflated 0%)\n",
      "  adding: shuffle_completed/train_k93.csv.gz (deflated 0%)\n",
      "  adding: shuffle_completed/train_k26.csv.gz (deflated 0%)\n",
      "  adding: shuffle_completed/train_k0.csv.gz (deflated 0%)\n",
      "  adding: shuffle_completed/train_k54.csv.gz (deflated 0%)\n",
      "  adding: shuffle_completed/train_k2.csv.gz (deflated 0%)\n",
      "  adding: shuffle_completed/train_k39.csv.gz (deflated 0%)\n",
      "  adding: shuffle_completed/train_k7.csv.gz (deflated 0%)\n",
      "  adding: shuffle_completed/train_k55.csv.gz (deflated 0%)\n",
      "  adding: shuffle_completed/train_k46.csv.gz (deflated 0%)\n",
      "  adding: shuffle_completed/train_k37.csv.gz (deflated 0%)\n",
      "  adding: shuffle_completed/train_k41.csv.gz (deflated 0%)\n",
      "  adding: shuffle_completed/train_k14.csv.gz (deflated 0%)\n",
      "  adding: shuffle_completed/train_k18.csv.gz (deflated 0%)\n",
      "  adding: shuffle_completed/train_k23.csv.gz (deflated 0%)\n",
      "  adding: shuffle_completed/train_k56.csv.gz (deflated 0%)\n",
      "  adding: shuffle_completed/train_k66.csv.gz (deflated 0%)\n",
      "  adding: shuffle_completed/train_k70.csv.gz (deflated 0%)\n"
     ]
    }
   ],
   "source": [
    "!zip -r shuffle_final_completed.zip shuffle_completed/"
   ]
  },
  {
   "cell_type": "code",
   "execution_count": 11,
   "metadata": {},
   "outputs": [
    {
     "ename": "NameError",
     "evalue": "name 'start' is not defined",
     "output_type": "error",
     "traceback": [
      "\u001b[0;31m---------------------------------------------------------------------------\u001b[0m",
      "\u001b[0;31mNameError\u001b[0m                                 Traceback (most recent call last)",
      "\u001b[0;32m<ipython-input-11-8df3a7752ba6>\u001b[0m in \u001b[0;36m<module>\u001b[0;34m\u001b[0m\n\u001b[1;32m      1\u001b[0m \u001b[0mend\u001b[0m \u001b[0;34m=\u001b[0m \u001b[0mdt\u001b[0m\u001b[0;34m.\u001b[0m\u001b[0mdatetime\u001b[0m\u001b[0;34m.\u001b[0m\u001b[0mnow\u001b[0m\u001b[0;34m(\u001b[0m\u001b[0;34m)\u001b[0m\u001b[0;34m\u001b[0m\u001b[0m\n\u001b[0;32m----> 2\u001b[0;31m \u001b[0mprint\u001b[0m\u001b[0;34m(\u001b[0m\u001b[0;34m'Latest run {}.\\nTotal time {}s'\u001b[0m\u001b[0;34m.\u001b[0m\u001b[0mformat\u001b[0m\u001b[0;34m(\u001b[0m\u001b[0mend\u001b[0m\u001b[0;34m,\u001b[0m \u001b[0;34m(\u001b[0m\u001b[0mend\u001b[0m \u001b[0;34m-\u001b[0m \u001b[0mstart\u001b[0m\u001b[0;34m)\u001b[0m\u001b[0;34m.\u001b[0m\u001b[0mseconds\u001b[0m\u001b[0;34m)\u001b[0m\u001b[0;34m)\u001b[0m\u001b[0;34m\u001b[0m\u001b[0m\n\u001b[0m",
      "\u001b[0;31mNameError\u001b[0m: name 'start' is not defined"
     ]
    }
   ],
   "source": [
    "end = dt.datetime.now()\n",
    "print('Latest run {}.\\nTotal time {}s'.format(end, (end - start).seconds))"
   ]
  }
 ],
 "metadata": {
  "kernelspec": {
   "display_name": "Python 3",
   "language": "python",
   "name": "python3"
  },
  "language_info": {
   "codemirror_mode": {
    "name": "ipython",
    "version": 3
   },
   "file_extension": ".py",
   "mimetype": "text/x-python",
   "name": "python",
   "nbconvert_exporter": "python",
   "pygments_lexer": "ipython3",
   "version": "3.5.3"
  }
 },
 "nbformat": 4,
 "nbformat_minor": 2
}
